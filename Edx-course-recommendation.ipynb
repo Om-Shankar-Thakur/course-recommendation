{
 "cells": [
  {
   "cell_type": "code",
   "execution_count": 26,
   "id": "13287204",
   "metadata": {},
   "outputs": [
    {
     "data": {
      "text/html": [
       "<div>\n",
       "<style scoped>\n",
       "    .dataframe tbody tr th:only-of-type {\n",
       "        vertical-align: middle;\n",
       "    }\n",
       "\n",
       "    .dataframe tbody tr th {\n",
       "        vertical-align: top;\n",
       "    }\n",
       "\n",
       "    .dataframe thead th {\n",
       "        text-align: right;\n",
       "    }\n",
       "</style>\n",
       "<table border=\"1\" class=\"dataframe\">\n",
       "  <thead>\n",
       "    <tr style=\"text-align: right;\">\n",
       "      <th></th>\n",
       "      <th>name</th>\n",
       "      <th>university</th>\n",
       "      <th>difficulty level</th>\n",
       "      <th>link</th>\n",
       "      <th>about</th>\n",
       "      <th>course description</th>\n",
       "    </tr>\n",
       "  </thead>\n",
       "  <tbody>\n",
       "    <tr>\n",
       "      <th>0</th>\n",
       "      <td>How to Learn Online</td>\n",
       "      <td>edX</td>\n",
       "      <td>Beginner</td>\n",
       "      <td>https://www.edx.org/course/how-to-learn-online</td>\n",
       "      <td>Learn essential strategies for successful onli...</td>\n",
       "      <td>Designed for those who are new to elearning, t...</td>\n",
       "    </tr>\n",
       "    <tr>\n",
       "      <th>1</th>\n",
       "      <td>Programming for Everybody (Getting Started wit...</td>\n",
       "      <td>The University of Michigan</td>\n",
       "      <td>Beginner</td>\n",
       "      <td>https://www.edx.org/course/programming-for-eve...</td>\n",
       "      <td>This course is a \"no prerequisite\" introductio...</td>\n",
       "      <td>This course aims to teach everyone the basics ...</td>\n",
       "    </tr>\n",
       "    <tr>\n",
       "      <th>2</th>\n",
       "      <td>CS50's Introduction to Computer Science</td>\n",
       "      <td>Harvard University</td>\n",
       "      <td>Beginner</td>\n",
       "      <td>https://www.edx.org/course/cs50s-introduction-...</td>\n",
       "      <td>An introduction to the intellectual enterprise...</td>\n",
       "      <td>This is CS50x , Harvard University's introduct...</td>\n",
       "    </tr>\n",
       "    <tr>\n",
       "      <th>3</th>\n",
       "      <td>The Analytics Edge</td>\n",
       "      <td>Massachusetts Institute of Technology</td>\n",
       "      <td>Intermediate</td>\n",
       "      <td>https://www.edx.org/course/the-analytics-edge</td>\n",
       "      <td>Through inspiring examples and stories, discov...</td>\n",
       "      <td>In the last decade, the amount of data availab...</td>\n",
       "    </tr>\n",
       "    <tr>\n",
       "      <th>4</th>\n",
       "      <td>Marketing Analytics: Marketing Measurement Str...</td>\n",
       "      <td>University of California, Berkeley</td>\n",
       "      <td>Beginner</td>\n",
       "      <td>https://www.edx.org/course/marketing-analytics...</td>\n",
       "      <td>This course is part of a MicroMasters® Program</td>\n",
       "      <td>Begin your journey in a new career in marketin...</td>\n",
       "    </tr>\n",
       "  </tbody>\n",
       "</table>\n",
       "</div>"
      ],
      "text/plain": [
       "                                                name  \\\n",
       "0                                How to Learn Online   \n",
       "1  Programming for Everybody (Getting Started wit...   \n",
       "2            CS50's Introduction to Computer Science   \n",
       "3                                 The Analytics Edge   \n",
       "4  Marketing Analytics: Marketing Measurement Str...   \n",
       "\n",
       "                              university difficulty level  \\\n",
       "0                                    edX         Beginner   \n",
       "1             The University of Michigan         Beginner   \n",
       "2                     Harvard University         Beginner   \n",
       "3  Massachusetts Institute of Technology     Intermediate   \n",
       "4     University of California, Berkeley         Beginner   \n",
       "\n",
       "                                                link  \\\n",
       "0     https://www.edx.org/course/how-to-learn-online   \n",
       "1  https://www.edx.org/course/programming-for-eve...   \n",
       "2  https://www.edx.org/course/cs50s-introduction-...   \n",
       "3      https://www.edx.org/course/the-analytics-edge   \n",
       "4  https://www.edx.org/course/marketing-analytics...   \n",
       "\n",
       "                                               about  \\\n",
       "0  Learn essential strategies for successful onli...   \n",
       "1  This course is a \"no prerequisite\" introductio...   \n",
       "2  An introduction to the intellectual enterprise...   \n",
       "3  Through inspiring examples and stories, discov...   \n",
       "4     This course is part of a MicroMasters® Program   \n",
       "\n",
       "                                  course description  \n",
       "0  Designed for those who are new to elearning, t...  \n",
       "1  This course aims to teach everyone the basics ...  \n",
       "2  This is CS50x , Harvard University's introduct...  \n",
       "3  In the last decade, the amount of data availab...  \n",
       "4  Begin your journey in a new career in marketin...  "
      ]
     },
     "execution_count": 26,
     "metadata": {},
     "output_type": "execute_result"
    }
   ],
   "source": [
    "data = pd.read_csv('EdX.csv')\n",
    "data.columns = map(str.lower, data.columns)\n",
    "data.head()"
   ]
  },
  {
   "cell_type": "code",
   "execution_count": null,
   "id": "8313894f",
   "metadata": {},
   "outputs": [],
   "source": [
    "import pandas as pd "
   ]
  },
  {
   "cell_type": "code",
   "execution_count": 30,
   "id": "c072e13c",
   "metadata": {},
   "outputs": [
    {
     "data": {
      "text/html": [
       "<div>\n",
       "<style scoped>\n",
       "    .dataframe tbody tr th:only-of-type {\n",
       "        vertical-align: middle;\n",
       "    }\n",
       "\n",
       "    .dataframe tbody tr th {\n",
       "        vertical-align: top;\n",
       "    }\n",
       "\n",
       "    .dataframe thead th {\n",
       "        text-align: right;\n",
       "    }\n",
       "</style>\n",
       "<table border=\"1\" class=\"dataframe\">\n",
       "  <thead>\n",
       "    <tr style=\"text-align: right;\">\n",
       "      <th></th>\n",
       "      <th>name</th>\n",
       "      <th>university</th>\n",
       "      <th>difficulty level</th>\n",
       "      <th>link</th>\n",
       "      <th>about</th>\n",
       "      <th>course description</th>\n",
       "      <th>learner_id</th>\n",
       "      <th>previous_performance</th>\n",
       "      <th>engagement_time</th>\n",
       "      <th>completion_rate</th>\n",
       "      <th>prev_course</th>\n",
       "      <th>assessment_score</th>\n",
       "      <th>feedback_rating</th>\n",
       "    </tr>\n",
       "  </thead>\n",
       "  <tbody>\n",
       "    <tr>\n",
       "      <th>0</th>\n",
       "      <td>How to Learn Online</td>\n",
       "      <td>edX</td>\n",
       "      <td>Beginner</td>\n",
       "      <td>https://www.edx.org/course/how-to-learn-online</td>\n",
       "      <td>Learn essential strategies for successful onli...</td>\n",
       "      <td>Designed for those who are new to elearning, t...</td>\n",
       "      <td>1</td>\n",
       "      <td>24</td>\n",
       "      <td>229</td>\n",
       "      <td>0.60</td>\n",
       "      <td>19</td>\n",
       "      <td>9</td>\n",
       "      <td>Good</td>\n",
       "    </tr>\n",
       "    <tr>\n",
       "      <th>1</th>\n",
       "      <td>Programming for Everybody (Getting Started wit...</td>\n",
       "      <td>The University of Michigan</td>\n",
       "      <td>Beginner</td>\n",
       "      <td>https://www.edx.org/course/programming-for-eve...</td>\n",
       "      <td>This course is a \"no prerequisite\" introductio...</td>\n",
       "      <td>This course aims to teach everyone the basics ...</td>\n",
       "      <td>2</td>\n",
       "      <td>88</td>\n",
       "      <td>232</td>\n",
       "      <td>0.85</td>\n",
       "      <td>14</td>\n",
       "      <td>54</td>\n",
       "      <td>Average</td>\n",
       "    </tr>\n",
       "    <tr>\n",
       "      <th>2</th>\n",
       "      <td>CS50's Introduction to Computer Science</td>\n",
       "      <td>Harvard University</td>\n",
       "      <td>Beginner</td>\n",
       "      <td>https://www.edx.org/course/cs50s-introduction-...</td>\n",
       "      <td>An introduction to the intellectual enterprise...</td>\n",
       "      <td>This is CS50x , Harvard University's introduct...</td>\n",
       "      <td>3</td>\n",
       "      <td>35</td>\n",
       "      <td>191</td>\n",
       "      <td>0.47</td>\n",
       "      <td>12</td>\n",
       "      <td>44</td>\n",
       "      <td>Average</td>\n",
       "    </tr>\n",
       "    <tr>\n",
       "      <th>3</th>\n",
       "      <td>The Analytics Edge</td>\n",
       "      <td>Massachusetts Institute of Technology</td>\n",
       "      <td>Intermediate</td>\n",
       "      <td>https://www.edx.org/course/the-analytics-edge</td>\n",
       "      <td>Through inspiring examples and stories, discov...</td>\n",
       "      <td>In the last decade, the amount of data availab...</td>\n",
       "      <td>4</td>\n",
       "      <td>55</td>\n",
       "      <td>24</td>\n",
       "      <td>0.28</td>\n",
       "      <td>17</td>\n",
       "      <td>91</td>\n",
       "      <td>Good</td>\n",
       "    </tr>\n",
       "    <tr>\n",
       "      <th>4</th>\n",
       "      <td>Marketing Analytics: Marketing Measurement Str...</td>\n",
       "      <td>University of California, Berkeley</td>\n",
       "      <td>Beginner</td>\n",
       "      <td>https://www.edx.org/course/marketing-analytics...</td>\n",
       "      <td>This course is part of a MicroMasters® Program</td>\n",
       "      <td>Begin your journey in a new career in marketin...</td>\n",
       "      <td>5</td>\n",
       "      <td>26</td>\n",
       "      <td>22</td>\n",
       "      <td>0.88</td>\n",
       "      <td>6</td>\n",
       "      <td>18</td>\n",
       "      <td>Good</td>\n",
       "    </tr>\n",
       "  </tbody>\n",
       "</table>\n",
       "</div>"
      ],
      "text/plain": [
       "                                                name  \\\n",
       "0                                How to Learn Online   \n",
       "1  Programming for Everybody (Getting Started wit...   \n",
       "2            CS50's Introduction to Computer Science   \n",
       "3                                 The Analytics Edge   \n",
       "4  Marketing Analytics: Marketing Measurement Str...   \n",
       "\n",
       "                              university difficulty level  \\\n",
       "0                                    edX         Beginner   \n",
       "1             The University of Michigan         Beginner   \n",
       "2                     Harvard University         Beginner   \n",
       "3  Massachusetts Institute of Technology     Intermediate   \n",
       "4     University of California, Berkeley         Beginner   \n",
       "\n",
       "                                                link  \\\n",
       "0     https://www.edx.org/course/how-to-learn-online   \n",
       "1  https://www.edx.org/course/programming-for-eve...   \n",
       "2  https://www.edx.org/course/cs50s-introduction-...   \n",
       "3      https://www.edx.org/course/the-analytics-edge   \n",
       "4  https://www.edx.org/course/marketing-analytics...   \n",
       "\n",
       "                                               about  \\\n",
       "0  Learn essential strategies for successful onli...   \n",
       "1  This course is a \"no prerequisite\" introductio...   \n",
       "2  An introduction to the intellectual enterprise...   \n",
       "3  Through inspiring examples and stories, discov...   \n",
       "4     This course is part of a MicroMasters® Program   \n",
       "\n",
       "                                  course description  learner_id  \\\n",
       "0  Designed for those who are new to elearning, t...           1   \n",
       "1  This course aims to teach everyone the basics ...           2   \n",
       "2  This is CS50x , Harvard University's introduct...           3   \n",
       "3  In the last decade, the amount of data availab...           4   \n",
       "4  Begin your journey in a new career in marketin...           5   \n",
       "\n",
       "   previous_performance  engagement_time  completion_rate  prev_course  \\\n",
       "0                    24              229             0.60           19   \n",
       "1                    88              232             0.85           14   \n",
       "2                    35              191             0.47           12   \n",
       "3                    55               24             0.28           17   \n",
       "4                    26               22             0.88            6   \n",
       "\n",
       "   assessment_score feedback_rating  \n",
       "0                 9            Good  \n",
       "1                54         Average  \n",
       "2                44         Average  \n",
       "3                91            Good  \n",
       "4                18            Good  "
      ]
     },
     "execution_count": 30,
     "metadata": {},
     "output_type": "execute_result"
    }
   ],
   "source": [
    "# Number of records\n",
    "n = len(data)\n",
    "\n",
    "# Generate random additional columns\n",
    "additional_data = {\n",
    "    'learner_id': np.arange(1, n+1),\n",
    "    'previous_performance': np.random.randint(0, 100, n),  # Test scores between 50 and 100\n",
    "    'engagement_time': np.random.randint(15, 300, n),  # Time spent in minutes\n",
    "    'completion_rate': np.round(np.random.uniform(0.1, 1.0, n), 2),  # Completion rate between 20% and 100%\n",
    "    'prev_course': np.random.randint(1, 21, n),  # Previous course ID between 1 and 20\n",
    "    'assessment_score': np.random.randint(1, 100, n),  # Assessment scores between 60 and 100\n",
    "    'feedback_rating': np.random.choice(['Excellent', 'Good', 'Average', 'Poor'], n),\n",
    "}\n",
    "\n",
    "df_additional = pd.DataFrame(additional_data)\n",
    "\n",
    "# Merge the new columns with the existing DataFrame\n",
    "df_edx_extended = pd.concat([data, df_additional], axis=1)\n",
    "\n",
    "# Display the extended DataFrame\n",
    "df_edx_extended.head()"
   ]
  },
  {
   "cell_type": "code",
   "execution_count": 33,
   "id": "4aa40823",
   "metadata": {},
   "outputs": [
    {
     "name": "stdout",
     "output_type": "stream",
     "text": [
      "Total number of fields (columns) using shape: 13\n",
      "Total number of rows: 720\n"
     ]
    }
   ],
   "source": [
    "num_columns = df_edx_extended.shape[1]\n",
    "total_rows = df_edx_extended.shape[0]\n",
    "total_rows_alternative = len(df_edx_extended)\n",
    "\n",
    "print(f\"Total number of fields (columns) using shape: {num_columns}\")\n",
    "print(f\"Total number of rows: {total_rows}\")\n"
   ]
  },
  {
   "cell_type": "code",
   "execution_count": 34,
   "id": "db45b3bc",
   "metadata": {},
   "outputs": [
    {
     "name": "stdout",
     "output_type": "stream",
     "text": [
      "Sample from Dataset:\n",
      "\n",
      "Course Name:\n",
      "How to Learn Online \n",
      "\n",
      "What is the course about?:\n",
      "Learn essential strategies for successful online learning \n",
      "\n",
      "Course Description:\n",
      "Designed for those who are new to elearning, this course will prepare you with strategies to be a successful online learner.The edX learning design team has curated some of the most powerful, science-backed techniques which you can start using right away and on any learning platform.The Verified Certificate for this course is free. Use the following coupon code before September 1, 2020 to upgrade at no cost to you: Y5ZADM5NU2AN5JU7This course will help you answer the following questions: Education & Teacher Training\n"
     ]
    }
   ],
   "source": [
    "def show_course_id(id):\n",
    "    print(f\"Course Name:\\n{data['name'][id]}\",'\\n')\n",
    "    print(f\"What is the course about?:\\n{data['about'][id]}\",'\\n')\n",
    "    print(f\"Course Description:\\n{data['course description'][id]}\")\n",
    "    \n",
    "# Show example of course description contents\n",
    "print('Sample from Dataset:\\n')\n",
    "show_course_id(0)"
   ]
  },
  {
   "cell_type": "code",
   "execution_count": 35,
   "id": "9cabb17c",
   "metadata": {},
   "outputs": [
    {
     "name": "stdout",
     "output_type": "stream",
     "text": [
      "number of duplicate rows: 1\n",
      "number of rows: 719\n"
     ]
    }
   ],
   "source": [
    "print(f'number of duplicate rows: {data.duplicated().sum()}')\n",
    "data.drop_duplicates(inplace = True)\n",
    "\n",
    "data.reset_index(drop = True, inplace = True)\n",
    "print(f'number of rows: {data.shape[0]}')"
   ]
  },
  {
   "cell_type": "code",
   "execution_count": 67,
   "id": "a74da33d",
   "metadata": {},
   "outputs": [
    {
     "data": {
      "text/html": [
       "<div>\n",
       "<style scoped>\n",
       "    .dataframe tbody tr th:only-of-type {\n",
       "        vertical-align: middle;\n",
       "    }\n",
       "\n",
       "    .dataframe tbody tr th {\n",
       "        vertical-align: top;\n",
       "    }\n",
       "\n",
       "    .dataframe thead th {\n",
       "        text-align: right;\n",
       "    }\n",
       "</style>\n",
       "<table border=\"1\" class=\"dataframe\">\n",
       "  <thead>\n",
       "    <tr style=\"text-align: right;\">\n",
       "      <th></th>\n",
       "      <th>learner_id</th>\n",
       "      <th>curr_course_name</th>\n",
       "      <th>university</th>\n",
       "      <th>difficulty level</th>\n",
       "      <th>link</th>\n",
       "      <th>about</th>\n",
       "      <th>course description</th>\n",
       "      <th>previous_performance</th>\n",
       "      <th>engagement_time</th>\n",
       "      <th>completion_rate</th>\n",
       "      <th>prev_course</th>\n",
       "      <th>assessment_score</th>\n",
       "      <th>feedback_rating</th>\n",
       "    </tr>\n",
       "  </thead>\n",
       "  <tbody>\n",
       "    <tr>\n",
       "      <th>0</th>\n",
       "      <td>1</td>\n",
       "      <td>How to Learn Online</td>\n",
       "      <td>edX</td>\n",
       "      <td>Beginner</td>\n",
       "      <td>https://www.edx.org/course/how-to-learn-online</td>\n",
       "      <td>Learn essential strategies for successful onli...</td>\n",
       "      <td>Designed for those who are new to elearning, t...</td>\n",
       "      <td>24</td>\n",
       "      <td>229</td>\n",
       "      <td>0.60</td>\n",
       "      <td>19</td>\n",
       "      <td>9</td>\n",
       "      <td>Good</td>\n",
       "    </tr>\n",
       "    <tr>\n",
       "      <th>1</th>\n",
       "      <td>2</td>\n",
       "      <td>Programming for Everybody (Getting Started wit...</td>\n",
       "      <td>The University of Michigan</td>\n",
       "      <td>Beginner</td>\n",
       "      <td>https://www.edx.org/course/programming-for-eve...</td>\n",
       "      <td>This course is a \"no prerequisite\" introductio...</td>\n",
       "      <td>This course aims to teach everyone the basics ...</td>\n",
       "      <td>88</td>\n",
       "      <td>232</td>\n",
       "      <td>0.85</td>\n",
       "      <td>14</td>\n",
       "      <td>54</td>\n",
       "      <td>Average</td>\n",
       "    </tr>\n",
       "    <tr>\n",
       "      <th>2</th>\n",
       "      <td>3</td>\n",
       "      <td>CS50's Introduction to Computer Science</td>\n",
       "      <td>Harvard University</td>\n",
       "      <td>Beginner</td>\n",
       "      <td>https://www.edx.org/course/cs50s-introduction-...</td>\n",
       "      <td>An introduction to the intellectual enterprise...</td>\n",
       "      <td>This is CS50x , Harvard University's introduct...</td>\n",
       "      <td>35</td>\n",
       "      <td>191</td>\n",
       "      <td>0.47</td>\n",
       "      <td>12</td>\n",
       "      <td>44</td>\n",
       "      <td>Average</td>\n",
       "    </tr>\n",
       "    <tr>\n",
       "      <th>3</th>\n",
       "      <td>4</td>\n",
       "      <td>The Analytics Edge</td>\n",
       "      <td>Massachusetts Institute of Technology</td>\n",
       "      <td>Intermediate</td>\n",
       "      <td>https://www.edx.org/course/the-analytics-edge</td>\n",
       "      <td>Through inspiring examples and stories, discov...</td>\n",
       "      <td>In the last decade, the amount of data availab...</td>\n",
       "      <td>55</td>\n",
       "      <td>24</td>\n",
       "      <td>0.28</td>\n",
       "      <td>17</td>\n",
       "      <td>91</td>\n",
       "      <td>Good</td>\n",
       "    </tr>\n",
       "    <tr>\n",
       "      <th>4</th>\n",
       "      <td>5</td>\n",
       "      <td>Marketing Analytics: Marketing Measurement Str...</td>\n",
       "      <td>University of California, Berkeley</td>\n",
       "      <td>Beginner</td>\n",
       "      <td>https://www.edx.org/course/marketing-analytics...</td>\n",
       "      <td>This course is part of a MicroMasters® Program</td>\n",
       "      <td>Begin your journey in a new career in marketin...</td>\n",
       "      <td>26</td>\n",
       "      <td>22</td>\n",
       "      <td>0.88</td>\n",
       "      <td>6</td>\n",
       "      <td>18</td>\n",
       "      <td>Good</td>\n",
       "    </tr>\n",
       "  </tbody>\n",
       "</table>\n",
       "</div>"
      ],
      "text/plain": [
       "   learner_id                                   curr_course_name  \\\n",
       "0           1                                How to Learn Online   \n",
       "1           2  Programming for Everybody (Getting Started wit...   \n",
       "2           3            CS50's Introduction to Computer Science   \n",
       "3           4                                 The Analytics Edge   \n",
       "4           5  Marketing Analytics: Marketing Measurement Str...   \n",
       "\n",
       "                              university difficulty level  \\\n",
       "0                                    edX         Beginner   \n",
       "1             The University of Michigan         Beginner   \n",
       "2                     Harvard University         Beginner   \n",
       "3  Massachusetts Institute of Technology     Intermediate   \n",
       "4     University of California, Berkeley         Beginner   \n",
       "\n",
       "                                                link  \\\n",
       "0     https://www.edx.org/course/how-to-learn-online   \n",
       "1  https://www.edx.org/course/programming-for-eve...   \n",
       "2  https://www.edx.org/course/cs50s-introduction-...   \n",
       "3      https://www.edx.org/course/the-analytics-edge   \n",
       "4  https://www.edx.org/course/marketing-analytics...   \n",
       "\n",
       "                                               about  \\\n",
       "0  Learn essential strategies for successful onli...   \n",
       "1  This course is a \"no prerequisite\" introductio...   \n",
       "2  An introduction to the intellectual enterprise...   \n",
       "3  Through inspiring examples and stories, discov...   \n",
       "4     This course is part of a MicroMasters® Program   \n",
       "\n",
       "                                  course description  previous_performance  \\\n",
       "0  Designed for those who are new to elearning, t...                    24   \n",
       "1  This course aims to teach everyone the basics ...                    88   \n",
       "2  This is CS50x , Harvard University's introduct...                    35   \n",
       "3  In the last decade, the amount of data availab...                    55   \n",
       "4  Begin your journey in a new career in marketin...                    26   \n",
       "\n",
       "   engagement_time  completion_rate  prev_course  assessment_score  \\\n",
       "0              229             0.60           19                 9   \n",
       "1              232             0.85           14                54   \n",
       "2              191             0.47           12                44   \n",
       "3               24             0.28           17                91   \n",
       "4               22             0.88            6                18   \n",
       "\n",
       "  feedback_rating  \n",
       "0            Good  \n",
       "1         Average  \n",
       "2         Average  \n",
       "3            Good  \n",
       "4            Good  "
      ]
     },
     "execution_count": 67,
     "metadata": {},
     "output_type": "execute_result"
    }
   ],
   "source": [
    "# Rename the column 'name' to 'curr_course_name'\n",
    "df_edx_extended.rename(columns={'name': 'curr_course_name'}, inplace=True)\n",
    "columns_order = ['learner_id'] + [col for col in df_edx_extended.columns if col != 'learner_id']\n",
    "df = df_edx_extended[columns_order]\n",
    "df.head()"
   ]
  },
  {
   "cell_type": "code",
   "execution_count": 43,
   "id": "31ff6f64",
   "metadata": {},
   "outputs": [
    {
     "name": "stdout",
     "output_type": "stream",
     "text": [
      "<class 'pandas.core.frame.DataFrame'>\n",
      "RangeIndex: 720 entries, 0 to 719\n",
      "Data columns (total 13 columns):\n",
      " #   Column                Non-Null Count  Dtype  \n",
      "---  ------                --------------  -----  \n",
      " 0   learner_id            720 non-null    int32  \n",
      " 1   curr_course_name      720 non-null    object \n",
      " 2   university            720 non-null    object \n",
      " 3   difficulty level      720 non-null    object \n",
      " 4   link                  720 non-null    object \n",
      " 5   about                 720 non-null    object \n",
      " 6   course description    720 non-null    object \n",
      " 7   previous_performance  720 non-null    int32  \n",
      " 8   engagement_time       720 non-null    int32  \n",
      " 9   completion_rate       720 non-null    float64\n",
      " 10  prev_course           720 non-null    int32  \n",
      " 11  assessment_score      720 non-null    int32  \n",
      " 12  feedback_rating       720 non-null    object \n",
      "dtypes: float64(1), int32(5), object(7)\n",
      "memory usage: 59.2+ KB\n"
     ]
    }
   ],
   "source": [
    "df.info()\n"
   ]
  },
  {
   "cell_type": "code",
   "execution_count": 45,
   "id": "89c0a601",
   "metadata": {},
   "outputs": [
    {
     "name": "stdout",
     "output_type": "stream",
     "text": [
      "number of duplicate rows: 0\n",
      "number of rows: 720\n"
     ]
    }
   ],
   "source": [
    "print(f'number of duplicate rows: {df.duplicated().sum()}')\n",
    "df.drop_duplicates(inplace = True)\n",
    "\n",
    "df.reset_index(drop = True, inplace = True)\n",
    "print(f'number of rows: {df.shape[0]}')"
   ]
  },
  {
   "cell_type": "code",
   "execution_count": 48,
   "id": "0c943971",
   "metadata": {},
   "outputs": [
    {
     "data": {
      "text/plain": [
       "Beginner        437\n",
       "Intermediate    205\n",
       "Advanced         78\n",
       "Name: difficulty level, dtype: int64"
      ]
     },
     "execution_count": 48,
     "metadata": {},
     "output_type": "execute_result"
    }
   ],
   "source": [
    "df['difficulty level'].value_counts()"
   ]
  },
  {
   "cell_type": "code",
   "execution_count": 52,
   "id": "3438a4e3",
   "metadata": {},
   "outputs": [],
   "source": [
    "# importing the dependencies needed for pre processing\n",
    "import re\n",
    "from nltk.corpus import stopwords\n",
    "from nltk.tokenize import word_tokenize\n",
    "from nltk.stem import PorterStemmer, WordNetLemmatizer\n",
    "import spacy\n",
    "from collections import Counter\n",
    "import plotly.express as px"
   ]
  },
  {
   "cell_type": "code",
   "execution_count": 54,
   "id": "e9e43e9e",
   "metadata": {},
   "outputs": [],
   "source": [
    "en_stopwords = stopwords.words(\"english\") # stop words \n",
    "lemma = WordNetLemmatizer() # lemmatiser\n",
    "nlp = spacy.load('en_core_web_sm')"
   ]
  },
  {
   "cell_type": "code",
   "execution_count": 53,
   "id": "de3db5f8",
   "metadata": {},
   "outputs": [],
   "source": [
    "# define a function for preprocessing\n",
    "def clean(text):\n",
    "    text = re.sub(\"[^A-Za-z1-9 ]\", \"\", text) #removes punctuation marks\n",
    "    text = text.lower() #changes to lower case\n",
    "    tokens = word_tokenize(text) #tokenize the text\n",
    "    clean_list = [] \n",
    "    for token in tokens:\n",
    "        if token not in en_stopwords: #removes stopwords\n",
    "            clean_list.append(lemma.lemmatize(token)) #lemmatizing and appends to clean_list\n",
    "    return \" \".join(clean_list)# joins the tokens\n",
    "\n",
    "# applying the \"clean\" function on the text column\n",
    "ldata = df['course description'].apply(clean)"
   ]
  },
  {
   "cell_type": "code",
   "execution_count": 55,
   "id": "a54ccf87",
   "metadata": {},
   "outputs": [
    {
     "name": "stdout",
     "output_type": "stream",
     "text": [
      "unigrams 76626\n",
      "bigrams 77346\n",
      "trigrams 75906\n"
     ]
    }
   ],
   "source": [
    "dict_ngrams = {'unigram':[],'bigram':[],'trigram':[]}\n",
    "for document in ldata:\n",
    "\n",
    "    doc = nlp(document)\n",
    "    tokens = [token.text for token in doc]\n",
    "\n",
    "    def n_grams(tokens,n):\n",
    "        lst_bigrams = [' '.join(i) for i in [tokens[i:i+n] for i in range(len(tokens)-n+1)]]\n",
    "        return lst_bigrams\n",
    "\n",
    "    dict_ngrams['unigram'].extend(n_grams(tokens,1))\n",
    "    dict_ngrams['bigram'].extend(n_grams(tokens,2))\n",
    "    dict_ngrams['trigram'].extend(n_grams(tokens,3))\n",
    "    \n",
    "print('unigrams',len(dict_ngrams['bigram']))\n",
    "print('bigrams',len(dict_ngrams['unigram']))\n",
    "print('trigrams',len(dict_ngrams['trigram']))"
   ]
  },
  {
   "cell_type": "code",
   "execution_count": 60,
   "id": "df6c8e24",
   "metadata": {},
   "outputs": [
    {
     "data": {
      "application/vnd.plotly.v1+json": {
       "config": {
        "plotlyServerURL": "https://plot.ly"
       },
       "data": [
        {
         "alignmentgroup": "True",
         "hovertemplate": "variable=unigram<br>value=%{x}<br>index=%{y}<extra></extra>",
         "legendgroup": "unigram",
         "marker": {
          "color": "#636efa",
          "pattern": {
           "shape": ""
          }
         },
         "name": "unigram",
         "offsetgroup": "unigram",
         "orientation": "h",
         "showlegend": true,
         "textposition": "auto",
         "type": "bar",
         "x": [
          2212,
          727,
          508,
          435,
          428,
          356,
          325,
          300,
          299,
          296,
          279,
          261,
          256,
          254,
          251,
          242,
          240,
          238,
          233,
          233
         ],
         "xaxis": "x",
         "y": [
          "course",
          "learn",
          "data",
          "business",
          "science",
          "also",
          "management",
          "skill",
          "program",
          "learning",
          "system",
          "world",
          "part",
          "understanding",
          "design",
          "work",
          "use",
          "you",
          "project",
          "computer"
         ],
         "yaxis": "y"
        }
       ],
       "layout": {
        "barmode": "relative",
        "legend": {
         "title": {
          "text": "variable"
         },
         "tracegroupgap": 0
        },
        "margin": {
         "t": 60
        },
        "template": {
         "data": {
          "bar": [
           {
            "error_x": {
             "color": "#2a3f5f"
            },
            "error_y": {
             "color": "#2a3f5f"
            },
            "marker": {
             "line": {
              "color": "white",
              "width": 0.5
             },
             "pattern": {
              "fillmode": "overlay",
              "size": 10,
              "solidity": 0.2
             }
            },
            "type": "bar"
           }
          ],
          "barpolar": [
           {
            "marker": {
             "line": {
              "color": "white",
              "width": 0.5
             },
             "pattern": {
              "fillmode": "overlay",
              "size": 10,
              "solidity": 0.2
             }
            },
            "type": "barpolar"
           }
          ],
          "carpet": [
           {
            "aaxis": {
             "endlinecolor": "#2a3f5f",
             "gridcolor": "#C8D4E3",
             "linecolor": "#C8D4E3",
             "minorgridcolor": "#C8D4E3",
             "startlinecolor": "#2a3f5f"
            },
            "baxis": {
             "endlinecolor": "#2a3f5f",
             "gridcolor": "#C8D4E3",
             "linecolor": "#C8D4E3",
             "minorgridcolor": "#C8D4E3",
             "startlinecolor": "#2a3f5f"
            },
            "type": "carpet"
           }
          ],
          "choropleth": [
           {
            "colorbar": {
             "outlinewidth": 0,
             "ticks": ""
            },
            "type": "choropleth"
           }
          ],
          "contour": [
           {
            "colorbar": {
             "outlinewidth": 0,
             "ticks": ""
            },
            "colorscale": [
             [
              0,
              "#0d0887"
             ],
             [
              0.1111111111111111,
              "#46039f"
             ],
             [
              0.2222222222222222,
              "#7201a8"
             ],
             [
              0.3333333333333333,
              "#9c179e"
             ],
             [
              0.4444444444444444,
              "#bd3786"
             ],
             [
              0.5555555555555556,
              "#d8576b"
             ],
             [
              0.6666666666666666,
              "#ed7953"
             ],
             [
              0.7777777777777778,
              "#fb9f3a"
             ],
             [
              0.8888888888888888,
              "#fdca26"
             ],
             [
              1,
              "#f0f921"
             ]
            ],
            "type": "contour"
           }
          ],
          "contourcarpet": [
           {
            "colorbar": {
             "outlinewidth": 0,
             "ticks": ""
            },
            "type": "contourcarpet"
           }
          ],
          "heatmap": [
           {
            "colorbar": {
             "outlinewidth": 0,
             "ticks": ""
            },
            "colorscale": [
             [
              0,
              "#0d0887"
             ],
             [
              0.1111111111111111,
              "#46039f"
             ],
             [
              0.2222222222222222,
              "#7201a8"
             ],
             [
              0.3333333333333333,
              "#9c179e"
             ],
             [
              0.4444444444444444,
              "#bd3786"
             ],
             [
              0.5555555555555556,
              "#d8576b"
             ],
             [
              0.6666666666666666,
              "#ed7953"
             ],
             [
              0.7777777777777778,
              "#fb9f3a"
             ],
             [
              0.8888888888888888,
              "#fdca26"
             ],
             [
              1,
              "#f0f921"
             ]
            ],
            "type": "heatmap"
           }
          ],
          "heatmapgl": [
           {
            "colorbar": {
             "outlinewidth": 0,
             "ticks": ""
            },
            "colorscale": [
             [
              0,
              "#0d0887"
             ],
             [
              0.1111111111111111,
              "#46039f"
             ],
             [
              0.2222222222222222,
              "#7201a8"
             ],
             [
              0.3333333333333333,
              "#9c179e"
             ],
             [
              0.4444444444444444,
              "#bd3786"
             ],
             [
              0.5555555555555556,
              "#d8576b"
             ],
             [
              0.6666666666666666,
              "#ed7953"
             ],
             [
              0.7777777777777778,
              "#fb9f3a"
             ],
             [
              0.8888888888888888,
              "#fdca26"
             ],
             [
              1,
              "#f0f921"
             ]
            ],
            "type": "heatmapgl"
           }
          ],
          "histogram": [
           {
            "marker": {
             "pattern": {
              "fillmode": "overlay",
              "size": 10,
              "solidity": 0.2
             }
            },
            "type": "histogram"
           }
          ],
          "histogram2d": [
           {
            "colorbar": {
             "outlinewidth": 0,
             "ticks": ""
            },
            "colorscale": [
             [
              0,
              "#0d0887"
             ],
             [
              0.1111111111111111,
              "#46039f"
             ],
             [
              0.2222222222222222,
              "#7201a8"
             ],
             [
              0.3333333333333333,
              "#9c179e"
             ],
             [
              0.4444444444444444,
              "#bd3786"
             ],
             [
              0.5555555555555556,
              "#d8576b"
             ],
             [
              0.6666666666666666,
              "#ed7953"
             ],
             [
              0.7777777777777778,
              "#fb9f3a"
             ],
             [
              0.8888888888888888,
              "#fdca26"
             ],
             [
              1,
              "#f0f921"
             ]
            ],
            "type": "histogram2d"
           }
          ],
          "histogram2dcontour": [
           {
            "colorbar": {
             "outlinewidth": 0,
             "ticks": ""
            },
            "colorscale": [
             [
              0,
              "#0d0887"
             ],
             [
              0.1111111111111111,
              "#46039f"
             ],
             [
              0.2222222222222222,
              "#7201a8"
             ],
             [
              0.3333333333333333,
              "#9c179e"
             ],
             [
              0.4444444444444444,
              "#bd3786"
             ],
             [
              0.5555555555555556,
              "#d8576b"
             ],
             [
              0.6666666666666666,
              "#ed7953"
             ],
             [
              0.7777777777777778,
              "#fb9f3a"
             ],
             [
              0.8888888888888888,
              "#fdca26"
             ],
             [
              1,
              "#f0f921"
             ]
            ],
            "type": "histogram2dcontour"
           }
          ],
          "mesh3d": [
           {
            "colorbar": {
             "outlinewidth": 0,
             "ticks": ""
            },
            "type": "mesh3d"
           }
          ],
          "parcoords": [
           {
            "line": {
             "colorbar": {
              "outlinewidth": 0,
              "ticks": ""
             }
            },
            "type": "parcoords"
           }
          ],
          "pie": [
           {
            "automargin": true,
            "type": "pie"
           }
          ],
          "scatter": [
           {
            "fillpattern": {
             "fillmode": "overlay",
             "size": 10,
             "solidity": 0.2
            },
            "type": "scatter"
           }
          ],
          "scatter3d": [
           {
            "line": {
             "colorbar": {
              "outlinewidth": 0,
              "ticks": ""
             }
            },
            "marker": {
             "colorbar": {
              "outlinewidth": 0,
              "ticks": ""
             }
            },
            "type": "scatter3d"
           }
          ],
          "scattercarpet": [
           {
            "marker": {
             "colorbar": {
              "outlinewidth": 0,
              "ticks": ""
             }
            },
            "type": "scattercarpet"
           }
          ],
          "scattergeo": [
           {
            "marker": {
             "colorbar": {
              "outlinewidth": 0,
              "ticks": ""
             }
            },
            "type": "scattergeo"
           }
          ],
          "scattergl": [
           {
            "marker": {
             "colorbar": {
              "outlinewidth": 0,
              "ticks": ""
             }
            },
            "type": "scattergl"
           }
          ],
          "scattermapbox": [
           {
            "marker": {
             "colorbar": {
              "outlinewidth": 0,
              "ticks": ""
             }
            },
            "type": "scattermapbox"
           }
          ],
          "scatterpolar": [
           {
            "marker": {
             "colorbar": {
              "outlinewidth": 0,
              "ticks": ""
             }
            },
            "type": "scatterpolar"
           }
          ],
          "scatterpolargl": [
           {
            "marker": {
             "colorbar": {
              "outlinewidth": 0,
              "ticks": ""
             }
            },
            "type": "scatterpolargl"
           }
          ],
          "scatterternary": [
           {
            "marker": {
             "colorbar": {
              "outlinewidth": 0,
              "ticks": ""
             }
            },
            "type": "scatterternary"
           }
          ],
          "surface": [
           {
            "colorbar": {
             "outlinewidth": 0,
             "ticks": ""
            },
            "colorscale": [
             [
              0,
              "#0d0887"
             ],
             [
              0.1111111111111111,
              "#46039f"
             ],
             [
              0.2222222222222222,
              "#7201a8"
             ],
             [
              0.3333333333333333,
              "#9c179e"
             ],
             [
              0.4444444444444444,
              "#bd3786"
             ],
             [
              0.5555555555555556,
              "#d8576b"
             ],
             [
              0.6666666666666666,
              "#ed7953"
             ],
             [
              0.7777777777777778,
              "#fb9f3a"
             ],
             [
              0.8888888888888888,
              "#fdca26"
             ],
             [
              1,
              "#f0f921"
             ]
            ],
            "type": "surface"
           }
          ],
          "table": [
           {
            "cells": {
             "fill": {
              "color": "#EBF0F8"
             },
             "line": {
              "color": "white"
             }
            },
            "header": {
             "fill": {
              "color": "#C8D4E3"
             },
             "line": {
              "color": "white"
             }
            },
            "type": "table"
           }
          ]
         },
         "layout": {
          "annotationdefaults": {
           "arrowcolor": "#2a3f5f",
           "arrowhead": 0,
           "arrowwidth": 1
          },
          "autotypenumbers": "strict",
          "coloraxis": {
           "colorbar": {
            "outlinewidth": 0,
            "ticks": ""
           }
          },
          "colorscale": {
           "diverging": [
            [
             0,
             "#8e0152"
            ],
            [
             0.1,
             "#c51b7d"
            ],
            [
             0.2,
             "#de77ae"
            ],
            [
             0.3,
             "#f1b6da"
            ],
            [
             0.4,
             "#fde0ef"
            ],
            [
             0.5,
             "#f7f7f7"
            ],
            [
             0.6,
             "#e6f5d0"
            ],
            [
             0.7,
             "#b8e186"
            ],
            [
             0.8,
             "#7fbc41"
            ],
            [
             0.9,
             "#4d9221"
            ],
            [
             1,
             "#276419"
            ]
           ],
           "sequential": [
            [
             0,
             "#0d0887"
            ],
            [
             0.1111111111111111,
             "#46039f"
            ],
            [
             0.2222222222222222,
             "#7201a8"
            ],
            [
             0.3333333333333333,
             "#9c179e"
            ],
            [
             0.4444444444444444,
             "#bd3786"
            ],
            [
             0.5555555555555556,
             "#d8576b"
            ],
            [
             0.6666666666666666,
             "#ed7953"
            ],
            [
             0.7777777777777778,
             "#fb9f3a"
            ],
            [
             0.8888888888888888,
             "#fdca26"
            ],
            [
             1,
             "#f0f921"
            ]
           ],
           "sequentialminus": [
            [
             0,
             "#0d0887"
            ],
            [
             0.1111111111111111,
             "#46039f"
            ],
            [
             0.2222222222222222,
             "#7201a8"
            ],
            [
             0.3333333333333333,
             "#9c179e"
            ],
            [
             0.4444444444444444,
             "#bd3786"
            ],
            [
             0.5555555555555556,
             "#d8576b"
            ],
            [
             0.6666666666666666,
             "#ed7953"
            ],
            [
             0.7777777777777778,
             "#fb9f3a"
            ],
            [
             0.8888888888888888,
             "#fdca26"
            ],
            [
             1,
             "#f0f921"
            ]
           ]
          },
          "colorway": [
           "#636efa",
           "#EF553B",
           "#00cc96",
           "#ab63fa",
           "#FFA15A",
           "#19d3f3",
           "#FF6692",
           "#B6E880",
           "#FF97FF",
           "#FECB52"
          ],
          "font": {
           "color": "#2a3f5f"
          },
          "geo": {
           "bgcolor": "white",
           "lakecolor": "white",
           "landcolor": "white",
           "showlakes": true,
           "showland": true,
           "subunitcolor": "#C8D4E3"
          },
          "hoverlabel": {
           "align": "left"
          },
          "hovermode": "closest",
          "mapbox": {
           "style": "light"
          },
          "paper_bgcolor": "white",
          "plot_bgcolor": "white",
          "polar": {
           "angularaxis": {
            "gridcolor": "#EBF0F8",
            "linecolor": "#EBF0F8",
            "ticks": ""
           },
           "bgcolor": "white",
           "radialaxis": {
            "gridcolor": "#EBF0F8",
            "linecolor": "#EBF0F8",
            "ticks": ""
           }
          },
          "scene": {
           "xaxis": {
            "backgroundcolor": "white",
            "gridcolor": "#DFE8F3",
            "gridwidth": 2,
            "linecolor": "#EBF0F8",
            "showbackground": true,
            "ticks": "",
            "zerolinecolor": "#EBF0F8"
           },
           "yaxis": {
            "backgroundcolor": "white",
            "gridcolor": "#DFE8F3",
            "gridwidth": 2,
            "linecolor": "#EBF0F8",
            "showbackground": true,
            "ticks": "",
            "zerolinecolor": "#EBF0F8"
           },
           "zaxis": {
            "backgroundcolor": "white",
            "gridcolor": "#DFE8F3",
            "gridwidth": 2,
            "linecolor": "#EBF0F8",
            "showbackground": true,
            "ticks": "",
            "zerolinecolor": "#EBF0F8"
           }
          },
          "shapedefaults": {
           "line": {
            "color": "#2a3f5f"
           }
          },
          "ternary": {
           "aaxis": {
            "gridcolor": "#DFE8F3",
            "linecolor": "#A2B1C6",
            "ticks": ""
           },
           "baxis": {
            "gridcolor": "#DFE8F3",
            "linecolor": "#A2B1C6",
            "ticks": ""
           },
           "bgcolor": "white",
           "caxis": {
            "gridcolor": "#DFE8F3",
            "linecolor": "#A2B1C6",
            "ticks": ""
           }
          },
          "title": {
           "x": 0.05
          },
          "xaxis": {
           "automargin": true,
           "gridcolor": "#EBF0F8",
           "linecolor": "#EBF0F8",
           "ticks": "",
           "title": {
            "standoff": 15
           },
           "zerolinecolor": "#EBF0F8",
           "zerolinewidth": 2
          },
          "yaxis": {
           "automargin": true,
           "gridcolor": "#EBF0F8",
           "linecolor": "#EBF0F8",
           "ticks": "",
           "title": {
            "standoff": 15
           },
           "zerolinecolor": "#EBF0F8",
           "zerolinewidth": 2
          }
         }
        },
        "xaxis": {
         "anchor": "y",
         "domain": [
          0,
          1
         ],
         "title": {
          "text": "value"
         }
        },
        "yaxis": {
         "anchor": "x",
         "domain": [
          0,
          1
         ],
         "title": {
          "text": "index"
         }
        }
       }
      },
      "text/html": [
       "<div>                            <div id=\"3cc90df2-6519-4c78-9420-1a237d2d25c7\" class=\"plotly-graph-div\" style=\"height:525px; width:100%;\"></div>            <script type=\"text/javascript\">                require([\"plotly\"], function(Plotly) {                    window.PLOTLYENV=window.PLOTLYENV || {};                                    if (document.getElementById(\"3cc90df2-6519-4c78-9420-1a237d2d25c7\")) {                    Plotly.newPlot(                        \"3cc90df2-6519-4c78-9420-1a237d2d25c7\",                        [{\"alignmentgroup\":\"True\",\"hovertemplate\":\"variable=unigram<br>value=%{x}<br>index=%{y}<extra></extra>\",\"legendgroup\":\"unigram\",\"marker\":{\"color\":\"#636efa\",\"pattern\":{\"shape\":\"\"}},\"name\":\"unigram\",\"offsetgroup\":\"unigram\",\"orientation\":\"h\",\"showlegend\":true,\"textposition\":\"auto\",\"x\":[2212,727,508,435,428,356,325,300,299,296,279,261,256,254,251,242,240,238,233,233],\"xaxis\":\"x\",\"y\":[\"course\",\"learn\",\"data\",\"business\",\"science\",\"also\",\"management\",\"skill\",\"program\",\"learning\",\"system\",\"world\",\"part\",\"understanding\",\"design\",\"work\",\"use\",\"you\",\"project\",\"computer\"],\"yaxis\":\"y\",\"type\":\"bar\"}],                        {\"template\":{\"data\":{\"barpolar\":[{\"marker\":{\"line\":{\"color\":\"white\",\"width\":0.5},\"pattern\":{\"fillmode\":\"overlay\",\"size\":10,\"solidity\":0.2}},\"type\":\"barpolar\"}],\"bar\":[{\"error_x\":{\"color\":\"#2a3f5f\"},\"error_y\":{\"color\":\"#2a3f5f\"},\"marker\":{\"line\":{\"color\":\"white\",\"width\":0.5},\"pattern\":{\"fillmode\":\"overlay\",\"size\":10,\"solidity\":0.2}},\"type\":\"bar\"}],\"carpet\":[{\"aaxis\":{\"endlinecolor\":\"#2a3f5f\",\"gridcolor\":\"#C8D4E3\",\"linecolor\":\"#C8D4E3\",\"minorgridcolor\":\"#C8D4E3\",\"startlinecolor\":\"#2a3f5f\"},\"baxis\":{\"endlinecolor\":\"#2a3f5f\",\"gridcolor\":\"#C8D4E3\",\"linecolor\":\"#C8D4E3\",\"minorgridcolor\":\"#C8D4E3\",\"startlinecolor\":\"#2a3f5f\"},\"type\":\"carpet\"}],\"choropleth\":[{\"colorbar\":{\"outlinewidth\":0,\"ticks\":\"\"},\"type\":\"choropleth\"}],\"contourcarpet\":[{\"colorbar\":{\"outlinewidth\":0,\"ticks\":\"\"},\"type\":\"contourcarpet\"}],\"contour\":[{\"colorbar\":{\"outlinewidth\":0,\"ticks\":\"\"},\"colorscale\":[[0.0,\"#0d0887\"],[0.1111111111111111,\"#46039f\"],[0.2222222222222222,\"#7201a8\"],[0.3333333333333333,\"#9c179e\"],[0.4444444444444444,\"#bd3786\"],[0.5555555555555556,\"#d8576b\"],[0.6666666666666666,\"#ed7953\"],[0.7777777777777778,\"#fb9f3a\"],[0.8888888888888888,\"#fdca26\"],[1.0,\"#f0f921\"]],\"type\":\"contour\"}],\"heatmapgl\":[{\"colorbar\":{\"outlinewidth\":0,\"ticks\":\"\"},\"colorscale\":[[0.0,\"#0d0887\"],[0.1111111111111111,\"#46039f\"],[0.2222222222222222,\"#7201a8\"],[0.3333333333333333,\"#9c179e\"],[0.4444444444444444,\"#bd3786\"],[0.5555555555555556,\"#d8576b\"],[0.6666666666666666,\"#ed7953\"],[0.7777777777777778,\"#fb9f3a\"],[0.8888888888888888,\"#fdca26\"],[1.0,\"#f0f921\"]],\"type\":\"heatmapgl\"}],\"heatmap\":[{\"colorbar\":{\"outlinewidth\":0,\"ticks\":\"\"},\"colorscale\":[[0.0,\"#0d0887\"],[0.1111111111111111,\"#46039f\"],[0.2222222222222222,\"#7201a8\"],[0.3333333333333333,\"#9c179e\"],[0.4444444444444444,\"#bd3786\"],[0.5555555555555556,\"#d8576b\"],[0.6666666666666666,\"#ed7953\"],[0.7777777777777778,\"#fb9f3a\"],[0.8888888888888888,\"#fdca26\"],[1.0,\"#f0f921\"]],\"type\":\"heatmap\"}],\"histogram2dcontour\":[{\"colorbar\":{\"outlinewidth\":0,\"ticks\":\"\"},\"colorscale\":[[0.0,\"#0d0887\"],[0.1111111111111111,\"#46039f\"],[0.2222222222222222,\"#7201a8\"],[0.3333333333333333,\"#9c179e\"],[0.4444444444444444,\"#bd3786\"],[0.5555555555555556,\"#d8576b\"],[0.6666666666666666,\"#ed7953\"],[0.7777777777777778,\"#fb9f3a\"],[0.8888888888888888,\"#fdca26\"],[1.0,\"#f0f921\"]],\"type\":\"histogram2dcontour\"}],\"histogram2d\":[{\"colorbar\":{\"outlinewidth\":0,\"ticks\":\"\"},\"colorscale\":[[0.0,\"#0d0887\"],[0.1111111111111111,\"#46039f\"],[0.2222222222222222,\"#7201a8\"],[0.3333333333333333,\"#9c179e\"],[0.4444444444444444,\"#bd3786\"],[0.5555555555555556,\"#d8576b\"],[0.6666666666666666,\"#ed7953\"],[0.7777777777777778,\"#fb9f3a\"],[0.8888888888888888,\"#fdca26\"],[1.0,\"#f0f921\"]],\"type\":\"histogram2d\"}],\"histogram\":[{\"marker\":{\"pattern\":{\"fillmode\":\"overlay\",\"size\":10,\"solidity\":0.2}},\"type\":\"histogram\"}],\"mesh3d\":[{\"colorbar\":{\"outlinewidth\":0,\"ticks\":\"\"},\"type\":\"mesh3d\"}],\"parcoords\":[{\"line\":{\"colorbar\":{\"outlinewidth\":0,\"ticks\":\"\"}},\"type\":\"parcoords\"}],\"pie\":[{\"automargin\":true,\"type\":\"pie\"}],\"scatter3d\":[{\"line\":{\"colorbar\":{\"outlinewidth\":0,\"ticks\":\"\"}},\"marker\":{\"colorbar\":{\"outlinewidth\":0,\"ticks\":\"\"}},\"type\":\"scatter3d\"}],\"scattercarpet\":[{\"marker\":{\"colorbar\":{\"outlinewidth\":0,\"ticks\":\"\"}},\"type\":\"scattercarpet\"}],\"scattergeo\":[{\"marker\":{\"colorbar\":{\"outlinewidth\":0,\"ticks\":\"\"}},\"type\":\"scattergeo\"}],\"scattergl\":[{\"marker\":{\"colorbar\":{\"outlinewidth\":0,\"ticks\":\"\"}},\"type\":\"scattergl\"}],\"scattermapbox\":[{\"marker\":{\"colorbar\":{\"outlinewidth\":0,\"ticks\":\"\"}},\"type\":\"scattermapbox\"}],\"scatterpolargl\":[{\"marker\":{\"colorbar\":{\"outlinewidth\":0,\"ticks\":\"\"}},\"type\":\"scatterpolargl\"}],\"scatterpolar\":[{\"marker\":{\"colorbar\":{\"outlinewidth\":0,\"ticks\":\"\"}},\"type\":\"scatterpolar\"}],\"scatter\":[{\"fillpattern\":{\"fillmode\":\"overlay\",\"size\":10,\"solidity\":0.2},\"type\":\"scatter\"}],\"scatterternary\":[{\"marker\":{\"colorbar\":{\"outlinewidth\":0,\"ticks\":\"\"}},\"type\":\"scatterternary\"}],\"surface\":[{\"colorbar\":{\"outlinewidth\":0,\"ticks\":\"\"},\"colorscale\":[[0.0,\"#0d0887\"],[0.1111111111111111,\"#46039f\"],[0.2222222222222222,\"#7201a8\"],[0.3333333333333333,\"#9c179e\"],[0.4444444444444444,\"#bd3786\"],[0.5555555555555556,\"#d8576b\"],[0.6666666666666666,\"#ed7953\"],[0.7777777777777778,\"#fb9f3a\"],[0.8888888888888888,\"#fdca26\"],[1.0,\"#f0f921\"]],\"type\":\"surface\"}],\"table\":[{\"cells\":{\"fill\":{\"color\":\"#EBF0F8\"},\"line\":{\"color\":\"white\"}},\"header\":{\"fill\":{\"color\":\"#C8D4E3\"},\"line\":{\"color\":\"white\"}},\"type\":\"table\"}]},\"layout\":{\"annotationdefaults\":{\"arrowcolor\":\"#2a3f5f\",\"arrowhead\":0,\"arrowwidth\":1},\"autotypenumbers\":\"strict\",\"coloraxis\":{\"colorbar\":{\"outlinewidth\":0,\"ticks\":\"\"}},\"colorscale\":{\"diverging\":[[0,\"#8e0152\"],[0.1,\"#c51b7d\"],[0.2,\"#de77ae\"],[0.3,\"#f1b6da\"],[0.4,\"#fde0ef\"],[0.5,\"#f7f7f7\"],[0.6,\"#e6f5d0\"],[0.7,\"#b8e186\"],[0.8,\"#7fbc41\"],[0.9,\"#4d9221\"],[1,\"#276419\"]],\"sequential\":[[0.0,\"#0d0887\"],[0.1111111111111111,\"#46039f\"],[0.2222222222222222,\"#7201a8\"],[0.3333333333333333,\"#9c179e\"],[0.4444444444444444,\"#bd3786\"],[0.5555555555555556,\"#d8576b\"],[0.6666666666666666,\"#ed7953\"],[0.7777777777777778,\"#fb9f3a\"],[0.8888888888888888,\"#fdca26\"],[1.0,\"#f0f921\"]],\"sequentialminus\":[[0.0,\"#0d0887\"],[0.1111111111111111,\"#46039f\"],[0.2222222222222222,\"#7201a8\"],[0.3333333333333333,\"#9c179e\"],[0.4444444444444444,\"#bd3786\"],[0.5555555555555556,\"#d8576b\"],[0.6666666666666666,\"#ed7953\"],[0.7777777777777778,\"#fb9f3a\"],[0.8888888888888888,\"#fdca26\"],[1.0,\"#f0f921\"]]},\"colorway\":[\"#636efa\",\"#EF553B\",\"#00cc96\",\"#ab63fa\",\"#FFA15A\",\"#19d3f3\",\"#FF6692\",\"#B6E880\",\"#FF97FF\",\"#FECB52\"],\"font\":{\"color\":\"#2a3f5f\"},\"geo\":{\"bgcolor\":\"white\",\"lakecolor\":\"white\",\"landcolor\":\"white\",\"showlakes\":true,\"showland\":true,\"subunitcolor\":\"#C8D4E3\"},\"hoverlabel\":{\"align\":\"left\"},\"hovermode\":\"closest\",\"mapbox\":{\"style\":\"light\"},\"paper_bgcolor\":\"white\",\"plot_bgcolor\":\"white\",\"polar\":{\"angularaxis\":{\"gridcolor\":\"#EBF0F8\",\"linecolor\":\"#EBF0F8\",\"ticks\":\"\"},\"bgcolor\":\"white\",\"radialaxis\":{\"gridcolor\":\"#EBF0F8\",\"linecolor\":\"#EBF0F8\",\"ticks\":\"\"}},\"scene\":{\"xaxis\":{\"backgroundcolor\":\"white\",\"gridcolor\":\"#DFE8F3\",\"gridwidth\":2,\"linecolor\":\"#EBF0F8\",\"showbackground\":true,\"ticks\":\"\",\"zerolinecolor\":\"#EBF0F8\"},\"yaxis\":{\"backgroundcolor\":\"white\",\"gridcolor\":\"#DFE8F3\",\"gridwidth\":2,\"linecolor\":\"#EBF0F8\",\"showbackground\":true,\"ticks\":\"\",\"zerolinecolor\":\"#EBF0F8\"},\"zaxis\":{\"backgroundcolor\":\"white\",\"gridcolor\":\"#DFE8F3\",\"gridwidth\":2,\"linecolor\":\"#EBF0F8\",\"showbackground\":true,\"ticks\":\"\",\"zerolinecolor\":\"#EBF0F8\"}},\"shapedefaults\":{\"line\":{\"color\":\"#2a3f5f\"}},\"ternary\":{\"aaxis\":{\"gridcolor\":\"#DFE8F3\",\"linecolor\":\"#A2B1C6\",\"ticks\":\"\"},\"baxis\":{\"gridcolor\":\"#DFE8F3\",\"linecolor\":\"#A2B1C6\",\"ticks\":\"\"},\"bgcolor\":\"white\",\"caxis\":{\"gridcolor\":\"#DFE8F3\",\"linecolor\":\"#A2B1C6\",\"ticks\":\"\"}},\"title\":{\"x\":0.05},\"xaxis\":{\"automargin\":true,\"gridcolor\":\"#EBF0F8\",\"linecolor\":\"#EBF0F8\",\"ticks\":\"\",\"title\":{\"standoff\":15},\"zerolinecolor\":\"#EBF0F8\",\"zerolinewidth\":2},\"yaxis\":{\"automargin\":true,\"gridcolor\":\"#EBF0F8\",\"linecolor\":\"#EBF0F8\",\"ticks\":\"\",\"title\":{\"standoff\":15},\"zerolinecolor\":\"#EBF0F8\",\"zerolinewidth\":2}}},\"xaxis\":{\"anchor\":\"y\",\"domain\":[0.0,1.0],\"title\":{\"text\":\"value\"}},\"yaxis\":{\"anchor\":\"x\",\"domain\":[0.0,1.0],\"title\":{\"text\":\"index\"}},\"legend\":{\"title\":{\"text\":\"variable\"},\"tracegroupgap\":0},\"margin\":{\"t\":60},\"barmode\":\"relative\"},                        {\"responsive\": true}                    ).then(function(){\n",
       "                            \n",
       "var gd = document.getElementById('3cc90df2-6519-4c78-9420-1a237d2d25c7');\n",
       "var x = new MutationObserver(function (mutations, observer) {{\n",
       "        var display = window.getComputedStyle(gd).display;\n",
       "        if (!display || display === 'none') {{\n",
       "            console.log([gd, 'removed!']);\n",
       "            Plotly.purge(gd);\n",
       "            observer.disconnect();\n",
       "        }}\n",
       "}});\n",
       "\n",
       "// Listen for the removal of the full notebook cells\n",
       "var notebookContainer = gd.closest('#notebook-container');\n",
       "if (notebookContainer) {{\n",
       "    x.observe(notebookContainer, {childList: true});\n",
       "}}\n",
       "\n",
       "// Listen for the clearing of the current output cell\n",
       "var outputEl = gd.closest('.output');\n",
       "if (outputEl) {{\n",
       "    x.observe(outputEl, {childList: true});\n",
       "}}\n",
       "\n",
       "                        })                };                });            </script>        </div>"
      ]
     },
     "metadata": {},
     "output_type": "display_data"
    }
   ],
   "source": [
    "# plot ngrams\n",
    "def plot_counter(counter,top,name):\n",
    "    labels, values = zip(*counter.items())\n",
    "    fig = px.bar(pd.Series(values,index=labels,name=name).sort_values(ascending=False)[:top],\n",
    "                 template='plotly_white',orientation='h')\n",
    "    fig.show()\n",
    "\n",
    "plot_counter(Counter(dict_ngrams['unigram']),20,'unigram')"
   ]
  },
  {
   "cell_type": "code",
   "execution_count": null,
   "id": "3bb86bc7",
   "metadata": {},
   "outputs": [],
   "source": [
    "df.drop(columns = [\"university\"], \n",
    "          axis =1, inplace = True)\n",
    "df_new = df.copy()"
   ]
  },
  {
   "cell_type": "code",
   "execution_count": 74,
   "id": "8f5bd60e",
   "metadata": {},
   "outputs": [
    {
     "data": {
      "text/html": [
       "<div>\n",
       "<style scoped>\n",
       "    .dataframe tbody tr th:only-of-type {\n",
       "        vertical-align: middle;\n",
       "    }\n",
       "\n",
       "    .dataframe tbody tr th {\n",
       "        vertical-align: top;\n",
       "    }\n",
       "\n",
       "    .dataframe thead th {\n",
       "        text-align: right;\n",
       "    }\n",
       "</style>\n",
       "<table border=\"1\" class=\"dataframe\">\n",
       "  <thead>\n",
       "    <tr style=\"text-align: right;\">\n",
       "      <th></th>\n",
       "      <th>learner_id</th>\n",
       "      <th>curr_course_name</th>\n",
       "      <th>university</th>\n",
       "      <th>difficulty level</th>\n",
       "      <th>link</th>\n",
       "      <th>about</th>\n",
       "      <th>course description</th>\n",
       "      <th>previous_performance</th>\n",
       "      <th>engagement_time</th>\n",
       "      <th>completion_rate</th>\n",
       "      <th>prev_course</th>\n",
       "      <th>assessment_score</th>\n",
       "      <th>feedback_rating</th>\n",
       "      <th>text</th>\n",
       "    </tr>\n",
       "  </thead>\n",
       "  <tbody>\n",
       "    <tr>\n",
       "      <th>0</th>\n",
       "      <td>1</td>\n",
       "      <td>How to Learn Online</td>\n",
       "      <td>edX</td>\n",
       "      <td>Beginner</td>\n",
       "      <td>https://www.edx.org/course/how-to-learn-online</td>\n",
       "      <td>Learn essential strategies for successful onli...</td>\n",
       "      <td>Designed for those who are new to elearning, t...</td>\n",
       "      <td>24</td>\n",
       "      <td>229</td>\n",
       "      <td>0.60</td>\n",
       "      <td>19</td>\n",
       "      <td>9</td>\n",
       "      <td>Good</td>\n",
       "      <td>How to Learn Online Learn essential strategies...</td>\n",
       "    </tr>\n",
       "    <tr>\n",
       "      <th>1</th>\n",
       "      <td>2</td>\n",
       "      <td>Programming for Everybody (Getting Started wit...</td>\n",
       "      <td>The University of Michigan</td>\n",
       "      <td>Beginner</td>\n",
       "      <td>https://www.edx.org/course/programming-for-eve...</td>\n",
       "      <td>This course is a \"no prerequisite\" introductio...</td>\n",
       "      <td>This course aims to teach everyone the basics ...</td>\n",
       "      <td>88</td>\n",
       "      <td>232</td>\n",
       "      <td>0.85</td>\n",
       "      <td>14</td>\n",
       "      <td>54</td>\n",
       "      <td>Average</td>\n",
       "      <td>Programming for Everybody (Getting Started wit...</td>\n",
       "    </tr>\n",
       "    <tr>\n",
       "      <th>2</th>\n",
       "      <td>3</td>\n",
       "      <td>CS50's Introduction to Computer Science</td>\n",
       "      <td>Harvard University</td>\n",
       "      <td>Beginner</td>\n",
       "      <td>https://www.edx.org/course/cs50s-introduction-...</td>\n",
       "      <td>An introduction to the intellectual enterprise...</td>\n",
       "      <td>This is CS50x , Harvard University's introduct...</td>\n",
       "      <td>35</td>\n",
       "      <td>191</td>\n",
       "      <td>0.47</td>\n",
       "      <td>12</td>\n",
       "      <td>44</td>\n",
       "      <td>Average</td>\n",
       "      <td>CS50's Introduction to Computer Science An int...</td>\n",
       "    </tr>\n",
       "    <tr>\n",
       "      <th>3</th>\n",
       "      <td>4</td>\n",
       "      <td>The Analytics Edge</td>\n",
       "      <td>Massachusetts Institute of Technology</td>\n",
       "      <td>Intermediate</td>\n",
       "      <td>https://www.edx.org/course/the-analytics-edge</td>\n",
       "      <td>Through inspiring examples and stories, discov...</td>\n",
       "      <td>In the last decade, the amount of data availab...</td>\n",
       "      <td>55</td>\n",
       "      <td>24</td>\n",
       "      <td>0.28</td>\n",
       "      <td>17</td>\n",
       "      <td>91</td>\n",
       "      <td>Good</td>\n",
       "      <td>The Analytics Edge Through inspiring examples ...</td>\n",
       "    </tr>\n",
       "    <tr>\n",
       "      <th>4</th>\n",
       "      <td>5</td>\n",
       "      <td>Marketing Analytics: Marketing Measurement Str...</td>\n",
       "      <td>University of California, Berkeley</td>\n",
       "      <td>Beginner</td>\n",
       "      <td>https://www.edx.org/course/marketing-analytics...</td>\n",
       "      <td>This course is part of a MicroMasters® Program</td>\n",
       "      <td>Begin your journey in a new career in marketin...</td>\n",
       "      <td>26</td>\n",
       "      <td>22</td>\n",
       "      <td>0.88</td>\n",
       "      <td>6</td>\n",
       "      <td>18</td>\n",
       "      <td>Good</td>\n",
       "      <td>Marketing Analytics: Marketing Measurement Str...</td>\n",
       "    </tr>\n",
       "  </tbody>\n",
       "</table>\n",
       "</div>"
      ],
      "text/plain": [
       "   learner_id                                   curr_course_name  \\\n",
       "0           1                                How to Learn Online   \n",
       "1           2  Programming for Everybody (Getting Started wit...   \n",
       "2           3            CS50's Introduction to Computer Science   \n",
       "3           4                                 The Analytics Edge   \n",
       "4           5  Marketing Analytics: Marketing Measurement Str...   \n",
       "\n",
       "                              university difficulty level  \\\n",
       "0                                    edX         Beginner   \n",
       "1             The University of Michigan         Beginner   \n",
       "2                     Harvard University         Beginner   \n",
       "3  Massachusetts Institute of Technology     Intermediate   \n",
       "4     University of California, Berkeley         Beginner   \n",
       "\n",
       "                                                link  \\\n",
       "0     https://www.edx.org/course/how-to-learn-online   \n",
       "1  https://www.edx.org/course/programming-for-eve...   \n",
       "2  https://www.edx.org/course/cs50s-introduction-...   \n",
       "3      https://www.edx.org/course/the-analytics-edge   \n",
       "4  https://www.edx.org/course/marketing-analytics...   \n",
       "\n",
       "                                               about  \\\n",
       "0  Learn essential strategies for successful onli...   \n",
       "1  This course is a \"no prerequisite\" introductio...   \n",
       "2  An introduction to the intellectual enterprise...   \n",
       "3  Through inspiring examples and stories, discov...   \n",
       "4     This course is part of a MicroMasters® Program   \n",
       "\n",
       "                                  course description  previous_performance  \\\n",
       "0  Designed for those who are new to elearning, t...                    24   \n",
       "1  This course aims to teach everyone the basics ...                    88   \n",
       "2  This is CS50x , Harvard University's introduct...                    35   \n",
       "3  In the last decade, the amount of data availab...                    55   \n",
       "4  Begin your journey in a new career in marketin...                    26   \n",
       "\n",
       "   engagement_time  completion_rate  prev_course  assessment_score  \\\n",
       "0              229             0.60           19                 9   \n",
       "1              232             0.85           14                54   \n",
       "2              191             0.47           12                44   \n",
       "3               24             0.28           17                91   \n",
       "4               22             0.88            6                18   \n",
       "\n",
       "  feedback_rating                                               text  \n",
       "0            Good  How to Learn Online Learn essential strategies...  \n",
       "1         Average  Programming for Everybody (Getting Started wit...  \n",
       "2         Average  CS50's Introduction to Computer Science An int...  \n",
       "3            Good  The Analytics Edge Through inspiring examples ...  \n",
       "4            Good  Marketing Analytics: Marketing Measurement Str...  "
      ]
     },
     "execution_count": 74,
     "metadata": {},
     "output_type": "execute_result"
    }
   ],
   "source": [
    "df.head()"
   ]
  },
  {
   "cell_type": "code",
   "execution_count": 73,
   "id": "b6888bb0",
   "metadata": {},
   "outputs": [
    {
     "data": {
      "text/html": [
       "<div>\n",
       "<style scoped>\n",
       "    .dataframe tbody tr th:only-of-type {\n",
       "        vertical-align: middle;\n",
       "    }\n",
       "\n",
       "    .dataframe tbody tr th {\n",
       "        vertical-align: top;\n",
       "    }\n",
       "\n",
       "    .dataframe thead th {\n",
       "        text-align: right;\n",
       "    }\n",
       "</style>\n",
       "<table border=\"1\" class=\"dataframe\">\n",
       "  <thead>\n",
       "    <tr style=\"text-align: right;\">\n",
       "      <th></th>\n",
       "      <th>learner_id</th>\n",
       "      <th>curr_course_name</th>\n",
       "      <th>university</th>\n",
       "      <th>difficulty level</th>\n",
       "      <th>link</th>\n",
       "      <th>about</th>\n",
       "      <th>course description</th>\n",
       "      <th>previous_performance</th>\n",
       "      <th>engagement_time</th>\n",
       "      <th>completion_rate</th>\n",
       "      <th>prev_course</th>\n",
       "      <th>assessment_score</th>\n",
       "      <th>feedback_rating</th>\n",
       "      <th>text</th>\n",
       "    </tr>\n",
       "  </thead>\n",
       "  <tbody>\n",
       "    <tr>\n",
       "      <th>0</th>\n",
       "      <td>1</td>\n",
       "      <td>How to Learn Online</td>\n",
       "      <td>edX</td>\n",
       "      <td>Beginner</td>\n",
       "      <td>https://www.edx.org/course/how-to-learn-online</td>\n",
       "      <td>Learn essential strategies for successful onli...</td>\n",
       "      <td>Designed for those who are new to elearning, t...</td>\n",
       "      <td>24</td>\n",
       "      <td>229</td>\n",
       "      <td>0.60</td>\n",
       "      <td>19</td>\n",
       "      <td>9</td>\n",
       "      <td>Good</td>\n",
       "      <td>How to Learn Online Learn essential strategies...</td>\n",
       "    </tr>\n",
       "    <tr>\n",
       "      <th>1</th>\n",
       "      <td>2</td>\n",
       "      <td>Programming for Everybody (Getting Started wit...</td>\n",
       "      <td>The University of Michigan</td>\n",
       "      <td>Beginner</td>\n",
       "      <td>https://www.edx.org/course/programming-for-eve...</td>\n",
       "      <td>This course is a \"no prerequisite\" introductio...</td>\n",
       "      <td>This course aims to teach everyone the basics ...</td>\n",
       "      <td>88</td>\n",
       "      <td>232</td>\n",
       "      <td>0.85</td>\n",
       "      <td>14</td>\n",
       "      <td>54</td>\n",
       "      <td>Average</td>\n",
       "      <td>Programming for Everybody (Getting Started wit...</td>\n",
       "    </tr>\n",
       "    <tr>\n",
       "      <th>2</th>\n",
       "      <td>3</td>\n",
       "      <td>CS50's Introduction to Computer Science</td>\n",
       "      <td>Harvard University</td>\n",
       "      <td>Beginner</td>\n",
       "      <td>https://www.edx.org/course/cs50s-introduction-...</td>\n",
       "      <td>An introduction to the intellectual enterprise...</td>\n",
       "      <td>This is CS50x , Harvard University's introduct...</td>\n",
       "      <td>35</td>\n",
       "      <td>191</td>\n",
       "      <td>0.47</td>\n",
       "      <td>12</td>\n",
       "      <td>44</td>\n",
       "      <td>Average</td>\n",
       "      <td>CS50's Introduction to Computer Science An int...</td>\n",
       "    </tr>\n",
       "    <tr>\n",
       "      <th>3</th>\n",
       "      <td>4</td>\n",
       "      <td>The Analytics Edge</td>\n",
       "      <td>Massachusetts Institute of Technology</td>\n",
       "      <td>Intermediate</td>\n",
       "      <td>https://www.edx.org/course/the-analytics-edge</td>\n",
       "      <td>Through inspiring examples and stories, discov...</td>\n",
       "      <td>In the last decade, the amount of data availab...</td>\n",
       "      <td>55</td>\n",
       "      <td>24</td>\n",
       "      <td>0.28</td>\n",
       "      <td>17</td>\n",
       "      <td>91</td>\n",
       "      <td>Good</td>\n",
       "      <td>The Analytics Edge Through inspiring examples ...</td>\n",
       "    </tr>\n",
       "    <tr>\n",
       "      <th>4</th>\n",
       "      <td>5</td>\n",
       "      <td>Marketing Analytics: Marketing Measurement Str...</td>\n",
       "      <td>University of California, Berkeley</td>\n",
       "      <td>Beginner</td>\n",
       "      <td>https://www.edx.org/course/marketing-analytics...</td>\n",
       "      <td>This course is part of a MicroMasters® Program</td>\n",
       "      <td>Begin your journey in a new career in marketin...</td>\n",
       "      <td>26</td>\n",
       "      <td>22</td>\n",
       "      <td>0.88</td>\n",
       "      <td>6</td>\n",
       "      <td>18</td>\n",
       "      <td>Good</td>\n",
       "      <td>Marketing Analytics: Marketing Measurement Str...</td>\n",
       "    </tr>\n",
       "  </tbody>\n",
       "</table>\n",
       "</div>"
      ],
      "text/plain": [
       "   learner_id                                   curr_course_name  \\\n",
       "0           1                                How to Learn Online   \n",
       "1           2  Programming for Everybody (Getting Started wit...   \n",
       "2           3            CS50's Introduction to Computer Science   \n",
       "3           4                                 The Analytics Edge   \n",
       "4           5  Marketing Analytics: Marketing Measurement Str...   \n",
       "\n",
       "                              university difficulty level  \\\n",
       "0                                    edX         Beginner   \n",
       "1             The University of Michigan         Beginner   \n",
       "2                     Harvard University         Beginner   \n",
       "3  Massachusetts Institute of Technology     Intermediate   \n",
       "4     University of California, Berkeley         Beginner   \n",
       "\n",
       "                                                link  \\\n",
       "0     https://www.edx.org/course/how-to-learn-online   \n",
       "1  https://www.edx.org/course/programming-for-eve...   \n",
       "2  https://www.edx.org/course/cs50s-introduction-...   \n",
       "3      https://www.edx.org/course/the-analytics-edge   \n",
       "4  https://www.edx.org/course/marketing-analytics...   \n",
       "\n",
       "                                               about  \\\n",
       "0  Learn essential strategies for successful onli...   \n",
       "1  This course is a \"no prerequisite\" introductio...   \n",
       "2  An introduction to the intellectual enterprise...   \n",
       "3  Through inspiring examples and stories, discov...   \n",
       "4     This course is part of a MicroMasters® Program   \n",
       "\n",
       "                                  course description  previous_performance  \\\n",
       "0  Designed for those who are new to elearning, t...                    24   \n",
       "1  This course aims to teach everyone the basics ...                    88   \n",
       "2  This is CS50x , Harvard University's introduct...                    35   \n",
       "3  In the last decade, the amount of data availab...                    55   \n",
       "4  Begin your journey in a new career in marketin...                    26   \n",
       "\n",
       "   engagement_time  completion_rate  prev_course  assessment_score  \\\n",
       "0              229             0.60           19                 9   \n",
       "1              232             0.85           14                54   \n",
       "2              191             0.47           12                44   \n",
       "3               24             0.28           17                91   \n",
       "4               22             0.88            6                18   \n",
       "\n",
       "  feedback_rating                                               text  \n",
       "0            Good  How to Learn Online Learn essential strategies...  \n",
       "1         Average  Programming for Everybody (Getting Started wit...  \n",
       "2         Average  CS50's Introduction to Computer Science An int...  \n",
       "3            Good  The Analytics Edge Through inspiring examples ...  \n",
       "4            Good  Marketing Analytics: Marketing Measurement Str...  "
      ]
     },
     "execution_count": 73,
     "metadata": {},
     "output_type": "execute_result"
    }
   ],
   "source": [
    "df['text'] = df['curr_course_name'] + ' ' + df['about'] + ' ' + df['course description']\n",
    "df.head(5)"
   ]
  },
  {
   "cell_type": "code",
   "execution_count": 76,
   "id": "000540da",
   "metadata": {},
   "outputs": [],
   "source": [
    "text_data = df[['curr_course_name','about','course description','text']]\n",
    "text_data.to_csv('text_data.csv',index=False)"
   ]
  },
  {
   "cell_type": "code",
   "execution_count": 77,
   "id": "e5348d32",
   "metadata": {},
   "outputs": [],
   "source": [
    "#importing the dependencies needed for pre processing\n",
    "import re\n",
    "from nltk.corpus import stopwords\n",
    "from nltk.tokenize import word_tokenize\n",
    "from nltk.stem import PorterStemmer, WordNetLemmatizer"
   ]
  },
  {
   "cell_type": "code",
   "execution_count": 79,
   "id": "b5f5952b",
   "metadata": {},
   "outputs": [
    {
     "data": {
      "text/plain": [
       "0      learn online learn essential strategy successf...\n",
       "1      programming everybody getting started python c...\n",
       "2      cs5s introduction computer science introductio...\n",
       "3      analytics edge inspiring example story discove...\n",
       "4      marketing analytics marketing measurement stra...\n",
       "                             ...                        \n",
       "715    global china mongol ming explore impact conque...\n",
       "716    leader citizen security justice management car...\n",
       "717    computational neuroscience neuronal dynamic co...\n",
       "718    city challenge sustainable development sustain...\n",
       "719    mathtrackx special function understand trigono...\n",
       "Name: text, Length: 720, dtype: object"
      ]
     },
     "execution_count": 79,
     "metadata": {},
     "output_type": "execute_result"
    }
   ],
   "source": [
    "en_stopwords = stopwords.words(\"english\") # stop words \n",
    "lemma = WordNetLemmatizer() # lemmatiser\n",
    "\n",
    "# define a function for preprocessing\n",
    "def clean(text):\n",
    "    text = re.sub(\"[^A-Za-z1-9 ]\", \"\", text) #removes punctuation marks\n",
    "    text = text.lower() #changes to lower case\n",
    "    tokens = word_tokenize(text) #tokenize the text\n",
    "    clean_list = [] \n",
    "    for token in tokens:\n",
    "        if token not in en_stopwords: #removes stopwords\n",
    "            clean_list.append(lemma.lemmatize(token)) #lemmatizing and appends to clean_list\n",
    "    return \" \".join(clean_list)# joins the tokens\n",
    "\n",
    "# applying the \"clean\" function on the text column\n",
    "df.text = df.text.apply(clean)\n",
    "df.text"
   ]
  },
  {
   "cell_type": "code",
   "execution_count": 81,
   "id": "66da1c8e",
   "metadata": {},
   "outputs": [],
   "source": [
    "# Preprocessing, returns list instead\n",
    "def clean_for_word2vec(text):\n",
    "    \n",
    "    text = re.sub(\"[^A-Za-z1-9 ]\", \"\", text) #removes punctuation marks\n",
    "    text = text.lower() #changes to lower case\n",
    "    tokens = word_tokenize(text) #tokenize the text\n",
    "    clean_list = [] \n",
    "    for token in tokens:\n",
    "        if token not in en_stopwords: #removes stopwords\n",
    "            clean_list.append(lemma.lemmatize(token)) #lemmatizing and appends to clean_list\n",
    "    return clean_list\n",
    "\n",
    "#cleaning the documents\n",
    "corpus_cleaned = df.text.apply(clean_for_word2vec)\n",
    "lst_corpus = corpus_cleaned.tolist()"
   ]
  },
  {
   "cell_type": "code",
   "execution_count": 83,
   "id": "2fcf3e1b",
   "metadata": {},
   "outputs": [
    {
     "data": {
      "text/plain": [
       "1002076"
      ]
     },
     "execution_count": 83,
     "metadata": {},
     "output_type": "execute_result"
    }
   ],
   "source": [
    "corpus = []\n",
    "for words in df['text']:\n",
    "    corpus.append(words.split())\n",
    "    \n",
    "len(f'corpus length: {corpus}')"
   ]
  },
  {
   "cell_type": "code",
   "execution_count": 85,
   "id": "d43c02c5",
   "metadata": {},
   "outputs": [
    {
     "data": {
      "text/plain": [
       "['How to Learn Online',\n",
       " 'Programming for Everybody (Getting Started with Python)',\n",
       " \"CS50's Introduction to Computer Science\"]"
      ]
     },
     "execution_count": 85,
     "metadata": {},
     "output_type": "execute_result"
    }
   ],
   "source": [
    "#TF-IDF\n",
    "# course names\n",
    "lst_names = list(df['curr_course_name'])\n",
    "lst_names[:3]"
   ]
  },
  {
   "cell_type": "code",
   "execution_count": 86,
   "id": "74727c27",
   "metadata": {},
   "outputs": [],
   "source": [
    "#GENERATION OF VECTOR REPRESENTATION OF TEXT\n",
    "\n",
    "from sklearn.feature_extraction.text import TfidfVectorizer\n",
    "from sklearn.metrics.pairwise import cosine_similarity\n"
   ]
  },
  {
   "cell_type": "code",
   "execution_count": 87,
   "id": "16878cbf",
   "metadata": {},
   "outputs": [
    {
     "name": "stdout",
     "output_type": "stream",
     "text": [
      "fitting data on:\n",
      "0    learn online learn essential strategy successf...\n",
      "1    programming everybody getting started python c...\n",
      "2    cs5s introduction computer science introductio...\n",
      "Name: text, dtype: object of type: <class 'pandas.core.series.Series'>\n",
      "\n",
      "output matrix size: (720, 11066)\n",
      "length of the vectoriser vocabulary: 11066\n"
     ]
    }
   ],
   "source": [
    "\n",
    "print(f\"fitting data on:\\n{df['text'][:3]} of type: {type(df['text'])}\")\n",
    "vectoriser = TfidfVectorizer()\n",
    "test_matrix = vectoriser.fit_transform(df['text'])\n",
    "print(f'\\noutput matrix size: {test_matrix.shape}')\n",
    "print(f'length of the vectoriser vocabulary: {len(vectoriser.vocabulary_)}')"
   ]
  },
  {
   "cell_type": "markdown",
   "id": "5c4072a4",
   "metadata": {},
   "source": [
    "<!-- # GENERATION OF VECTOR REPRESENTATION OF TEXT\n",
    "\n",
    "# Example recommendation for: MathTrackX: Differential Calculus\n",
    "\n",
    "# 1 MathTrackX: Differential Calculus\n",
    "# 2 MathTrackX: Integral Calculus\n",
    "# 3 MathTrackX: Statistics\n",
    "# 4 MathTrackX: Polynomials, Functions and Graphs\n",
    "# 5 MathTrackX: Probability\n",
    "# 6 MathTrackX: Special Functions -->"
   ]
  },
  {
   "cell_type": "code",
   "execution_count": 88,
   "id": "7e23d150",
   "metadata": {},
   "outputs": [],
   "source": [
    "# GENERATION OF VECTOR REPRESENTATION OF TEXT\n",
    "\n",
    "# Example recommendation for: MathTrackX: Differential Calculus\n",
    "\n",
    "# 1 MathTrackX: Differential Calculus\n",
    "# 2 MathTrackX: Integral Calculus\n",
    "# 3 MathTrackX: Statistics\n",
    "# 4 MathTrackX: Polynomials, Functions and Graphs\n",
    "# 5 MathTrackX: Probability\n",
    "# # 6 MathTrackX: Special Functions"
   ]
  },
  {
   "cell_type": "code",
   "execution_count": 93,
   "id": "96a525eb",
   "metadata": {},
   "outputs": [
    {
     "name": "stdout",
     "output_type": "stream",
     "text": [
      "recommended courses for MathTrackX: Statistics\n",
      "\n",
      "1 MathTrackX: Statistics\n",
      "2 MathTrackX: Probability\n",
      "3 MathTrackX: Integral Calculus\n",
      "4 MathTrackX: Differential Calculus\n",
      "5 MathTrackX: Polynomials, Functions and Graphs\n",
      "6 MathTrackX: Special Functions\n"
     ]
    }
   ],
   "source": [
    "# define a function that will return the first five recommended courses\n",
    "def Recommendation_Cosine_similarity(matrix, name):\n",
    "    \n",
    "    # get its index from list\n",
    "    row_num = lst_names.index(name)\n",
    "     \n",
    "    # cosine similarity matrix for each index in list (square matrix)\n",
    "    similarity = cosine_similarity(test_matrix)\n",
    "    \n",
    "    # get similar courses by highest cosine similarity\n",
    "    similar_courses = list(enumerate(similarity[row_num]))\n",
    "    sorted_similar_courses = sorted(similar_courses, key=lambda x:x[1], reverse= True)[:6]\n",
    "    \n",
    "    print(f'recommended courses for {name}\\n')\n",
    "    # This part will return the description of the recommended courses\n",
    "    i = 0\n",
    "    for item in sorted_similar_courses:\n",
    "        course_description = df[df.index == item[0]][\"curr_course_name\"].values[0]\n",
    "        recommendations = print(f\"{i+1} {course_description}\")\n",
    "        i = i + 1\n",
    "    return recommendations\n",
    "\n",
    "Recommendation_Cosine_similarity(test_matrix,'MathTrackX: Statistics')"
   ]
  },
  {
   "cell_type": "code",
   "execution_count": 95,
   "id": "91408841",
   "metadata": {},
   "outputs": [],
   "source": [
    "import gensim.downloader as api\n",
    "from gensim.models import KeyedVectors\n",
    "from gensim.models import Word2Vec\n",
    "\n",
    "# preloaded embedding vectors\n",
    "# word2vec_path = '/kaggle/input/googlenewsvectorsnegative300/GoogleNews-vectors-negative300.bin'\n",
    "# w2v_model = KeyedVectors.load_word2vec_format(word2vec_path, binary=True)"
   ]
  },
  {
   "cell_type": "code",
   "execution_count": 96,
   "id": "b252106e",
   "metadata": {},
   "outputs": [
    {
     "name": "stdout",
     "output_type": "stream",
     "text": [
      "words in corpus: 89643\n",
      "corpus count: 720\n"
     ]
    }
   ],
   "source": [
    "model = Word2Vec(vector_size=100,min_count=1)\n",
    "model.build_vocab(corpus)\n",
    "print(f\"words in corpus: {model.corpus_total_words}\")\n",
    "print(f'corpus count: {model.corpus_count}')\n",
    "model.train(corpus, total_examples = model.corpus_count, epochs = 50)\n",
    "model.save('embeddings')"
   ]
  },
  {
   "cell_type": "code",
   "execution_count": 97,
   "id": "4de4fcbc",
   "metadata": {},
   "outputs": [
    {
     "name": "stdout",
     "output_type": "stream",
     "text": [
      "Vocabulary size: 11091\n",
      "First 10 words in vocabulary:\n",
      "['course', 'learn', 'data', 'business', 'science', 'management', 'skill', 'learning', 'also', 'program']\n"
     ]
    }
   ],
   "source": [
    "vocab_len = len(model.wv)\n",
    "print(f'Vocabulary size: {vocab_len}')\n",
    "\n",
    "print('First 10 words in vocabulary:')\n",
    "key_vocab = model.wv.index_to_key[:10]\n",
    "print(key_vocab)"
   ]
  },
  {
   "cell_type": "code",
   "execution_count": 98,
   "id": "c5c20e25",
   "metadata": {},
   "outputs": [
    {
     "name": "stdout",
     "output_type": "stream",
     "text": [
      "('machine', 0.747199535369873)\n",
      "('tensorflow', 0.716674268245697)\n",
      "('unsupervised', 0.7092194557189941)\n",
      "('supervised', 0.6719778180122375)\n",
      "('multiclass', 0.6690771579742432)\n",
      "('train', 0.6678266525268555)\n",
      "('accessthis', 0.6640950441360474)\n",
      "('backpropagation', 0.6598730087280273)\n",
      "('autoencoders', 0.6577281355857849)\n",
      "('beginnerlevel', 0.6478604078292847)\n",
      "\n",
      "similarity b/w deep and learning 0.46000000834465027\n",
      "\n",
      "computer word embedding\n",
      "first 10 components\n",
      "[ 1.0085756e+00  3.8918679e+00  3.3904824e-01 -5.4161733e-01\n",
      " -1.5689060e-03  1.1866072e+00  3.8521440e+00 -1.2562394e-01\n",
      " -1.6446865e+00  1.3075811e-01]\n"
     ]
    }
   ],
   "source": [
    "result = model.wv.similar_by_word('deep')\n",
    "for i in result:\n",
    "    print(i)\n",
    "\n",
    "word1 = 'deep'; word2 = 'learning'\n",
    "similarity = model.wv.similarity(word1,word2)\n",
    "print(f'\\nsimilarity b/w {word1} and {word2} {round(similarity,2)}\\n')\n",
    "\n",
    "# embedding vectors\n",
    "\n",
    "vector = model.wv['computer']  # numpy vector of a word\n",
    "print(f'computer word embedding')\n",
    "print(f'first {10} components')\n",
    "print(vector[:10])"
   ]
  },
  {
   "cell_type": "code",
   "execution_count": 99,
   "id": "1e27d448",
   "metadata": {},
   "outputs": [
    {
     "name": "stdout",
     "output_type": "stream",
     "text": [
      "Similar Words\n"
     ]
    },
    {
     "data": {
      "text/plain": [
       "{'course': ['lesson', 'seven', 'themthis', 'advanced', 'mooc'],\n",
       " 'learn': ['discover', 'explore', 'wellequipped', 'examine', 'learnimportant'],\n",
       " 'data': ['datasets', 'r', 'datadriven', 'analytics', 'manipulate'],\n",
       " 'business': ['peter', 'corporate', 'omnichannel', 'retail', 'startup'],\n",
       " 'science': ['introlevel', 'distinguishes', 'chip', 'graduate', 'todayin'],\n",
       " 'management': ['customercentric', 'manage', 'pmo', 'upskill', 'operational'],\n",
       " 'skill': ['confidence',\n",
       "  'mindset',\n",
       "  'sensemaking',\n",
       "  'ability',\n",
       "  'decisionunique'],\n",
       " 'learning': ['dig', 'rallying', 'turing', 'pytorch', 'machine'],\n",
       " 'also': ['modelled', 'attractive', 'finally', 'well', 'proposalsthe'],\n",
       " 'program': ['programmeyou',\n",
       "  'planningexplore',\n",
       "  'credential',\n",
       "  'programaudit',\n",
       "  'micromasters']}"
      ]
     },
     "execution_count": 99,
     "metadata": {},
     "output_type": "execute_result"
    }
   ],
   "source": [
    "# View similar words based on gensim's model\n",
    "print('Similar Words')\n",
    "similar_words = {search_term: [item[0] for item in model.wv.most_similar([search_term], topn=5)]\n",
    "                  for search_term in key_vocab}\n",
    "similar_words"
   ]
  },
  {
   "cell_type": "code",
   "execution_count": 100,
   "id": "7ba40bdd",
   "metadata": {},
   "outputs": [],
   "source": [
    "# Get average embedding vector for each text\n",
    "def doc_vectorizer(doc, model):\n",
    "    \n",
    "    doc_vector = []\n",
    "    num_words = 0\n",
    "    \n",
    "    for word in doc:\n",
    "        try:\n",
    "            if num_words == 0:\n",
    "                doc_vector = model.wv[word]\n",
    "            else:\n",
    "                doc_vector = np.add(doc_vector, model.wv[word])\n",
    "            num_words += 1\n",
    "        except:\n",
    "            pass  # if embedding vector isn't found\n",
    "     \n",
    "    return np.asarray(doc_vector) / num_words"
   ]
  },
  {
   "cell_type": "code",
   "execution_count": 101,
   "id": "f58efc4b",
   "metadata": {},
   "outputs": [
    {
     "name": "stdout",
     "output_type": "stream",
     "text": [
      "list of sentence vectors/sentences: 720\n",
      "each sentence has (100,) dimensions\n"
     ]
    }
   ],
   "source": [
    "X = []\n",
    "for doc in lst_corpus:\n",
    "    X.append(doc_vectorizer(doc,model))\n",
    "    \n",
    "print(f'list of sentence vectors/sentences: {len(X)}')\n",
    "print(f'each sentence has {X[0].shape} dimensions')"
   ]
  },
  {
   "cell_type": "code",
   "execution_count": 106,
   "id": "34b32973",
   "metadata": {},
   "outputs": [
    {
     "name": "stdout",
     "output_type": "stream",
     "text": [
      "Data Science: Inferential Thinking through Simulations\n",
      "Introduction to Statistical Methods for Gene Mapping\n",
      "Probability and Statistics in Data Science using Python\n",
      "Data Science: R Basics\n",
      "High-Dimensional Data Analysis\n"
     ]
    }
   ],
   "source": [
    "# Recommendation using cosine similarity\n",
    "def course_recommender(X,course):\n",
    "\n",
    "    # Finding cosine similarity for the vectors\n",
    "    cosine_similarities = cosine_similarity(X,X)\n",
    "\n",
    "    # Taking the Title and Movie Image Link and store in new dataframe called 'movies'\n",
    "    courses = df[['curr_course_name']]\n",
    "\n",
    "    # Reverse mapping of the index\n",
    "    indices = pd.Series(df.index, index = df['curr_course_name']).drop_duplicates()\n",
    "\n",
    "    idx = indices[course]\n",
    "    sim_scores = list(enumerate(cosine_similarities[idx]))\n",
    "    sim_scores = sorted(sim_scores, key = lambda x: x[1], reverse = True)\n",
    "    sim_scores = sim_scores[1:6]\n",
    "    movie_indices = [i[0] for i in sim_scores]\n",
    "    recommend = courses.iloc[movie_indices]\n",
    "\n",
    "    for index, row in recommend.iterrows():\n",
    "        print(row['curr_course_name'])\n",
    "        \n",
    "course_recommender(X,'Data Science: Inference and Modeling')\n"
   ]
  },
  {
   "cell_type": "code",
   "execution_count": 108,
   "id": "98d7f235",
   "metadata": {},
   "outputs": [
    {
     "data": {
      "text/html": [
       "<div>\n",
       "<style scoped>\n",
       "    .dataframe tbody tr th:only-of-type {\n",
       "        vertical-align: middle;\n",
       "    }\n",
       "\n",
       "    .dataframe tbody tr th {\n",
       "        vertical-align: top;\n",
       "    }\n",
       "\n",
       "    .dataframe thead th {\n",
       "        text-align: right;\n",
       "    }\n",
       "</style>\n",
       "<table border=\"1\" class=\"dataframe\">\n",
       "  <thead>\n",
       "    <tr style=\"text-align: right;\">\n",
       "      <th></th>\n",
       "      <th>curr_course_name</th>\n",
       "      <th>about</th>\n",
       "      <th>course description</th>\n",
       "      <th>text</th>\n",
       "    </tr>\n",
       "  </thead>\n",
       "  <tbody>\n",
       "    <tr>\n",
       "      <th>0</th>\n",
       "      <td>How to Learn Online</td>\n",
       "      <td>Learn essential strategies for successful onli...</td>\n",
       "      <td>Designed for those who are new to elearning, t...</td>\n",
       "      <td>How to Learn Online Learn essential strategies...</td>\n",
       "    </tr>\n",
       "    <tr>\n",
       "      <th>1</th>\n",
       "      <td>Programming for Everybody (Getting Started wit...</td>\n",
       "      <td>This course is a \"no prerequisite\" introductio...</td>\n",
       "      <td>This course aims to teach everyone the basics ...</td>\n",
       "      <td>Programming for Everybody (Getting Started wit...</td>\n",
       "    </tr>\n",
       "    <tr>\n",
       "      <th>2</th>\n",
       "      <td>CS50's Introduction to Computer Science</td>\n",
       "      <td>An introduction to the intellectual enterprise...</td>\n",
       "      <td>This is CS50x , Harvard University's introduct...</td>\n",
       "      <td>CS50's Introduction to Computer Science An int...</td>\n",
       "    </tr>\n",
       "    <tr>\n",
       "      <th>3</th>\n",
       "      <td>The Analytics Edge</td>\n",
       "      <td>Through inspiring examples and stories, discov...</td>\n",
       "      <td>In the last decade, the amount of data availab...</td>\n",
       "      <td>The Analytics Edge Through inspiring examples ...</td>\n",
       "    </tr>\n",
       "    <tr>\n",
       "      <th>4</th>\n",
       "      <td>Marketing Analytics: Marketing Measurement Str...</td>\n",
       "      <td>This course is part of a MicroMasters® Program</td>\n",
       "      <td>Begin your journey in a new career in marketin...</td>\n",
       "      <td>Marketing Analytics: Marketing Measurement Str...</td>\n",
       "    </tr>\n",
       "  </tbody>\n",
       "</table>\n",
       "</div>"
      ],
      "text/plain": [
       "                                    curr_course_name  \\\n",
       "0                                How to Learn Online   \n",
       "1  Programming for Everybody (Getting Started wit...   \n",
       "2            CS50's Introduction to Computer Science   \n",
       "3                                 The Analytics Edge   \n",
       "4  Marketing Analytics: Marketing Measurement Str...   \n",
       "\n",
       "                                               about  \\\n",
       "0  Learn essential strategies for successful onli...   \n",
       "1  This course is a \"no prerequisite\" introductio...   \n",
       "2  An introduction to the intellectual enterprise...   \n",
       "3  Through inspiring examples and stories, discov...   \n",
       "4     This course is part of a MicroMasters® Program   \n",
       "\n",
       "                                  course description  \\\n",
       "0  Designed for those who are new to elearning, t...   \n",
       "1  This course aims to teach everyone the basics ...   \n",
       "2  This is CS50x , Harvard University's introduct...   \n",
       "3  In the last decade, the amount of data availab...   \n",
       "4  Begin your journey in a new career in marketin...   \n",
       "\n",
       "                                                text  \n",
       "0  How to Learn Online Learn essential strategies...  \n",
       "1  Programming for Everybody (Getting Started wit...  \n",
       "2  CS50's Introduction to Computer Science An int...  \n",
       "3  The Analytics Edge Through inspiring examples ...  \n",
       "4  Marketing Analytics: Marketing Measurement Str...  "
      ]
     },
     "execution_count": 108,
     "metadata": {},
     "output_type": "execute_result"
    }
   ],
   "source": [
    "import pandas as pd\n",
    "\n",
    "corpus = pd.read_csv('text_data.csv')\n",
    "corpus.head()"
   ]
  },
  {
   "cell_type": "code",
   "execution_count": 109,
   "id": "02656ddb",
   "metadata": {},
   "outputs": [],
   "source": [
    "import re\n",
    "from nltk.corpus import stopwords\n",
    "from nltk.tokenize import word_tokenize\n",
    "from nltk.stem import PorterStemmer, WordNetLemmatizer\n",
    "from sklearn.feature_extraction.text import TfidfVectorizer\n",
    "from sklearn.metrics.pairwise import cosine_similarity"
   ]
  },
  {
   "cell_type": "code",
   "execution_count": 118,
   "id": "f17a21fd",
   "metadata": {},
   "outputs": [
    {
     "name": "stdout",
     "output_type": "stream",
     "text": [
      "Recommended courses for \n",
      "Analyzing Data with Python\n",
      "\n",
      "1 Analyzing Data with Python\n",
      "2 Python for Data Science\n",
      "3 Python Basics for Data Science\n",
      "4 Data Science for Construction, Architecture and Engineering\n",
      "5 Analytics in Python\n",
      "6 Data Science: Computational Thinking with Python\n"
     ]
    }
   ],
   "source": [
    "class recommender:\n",
    "    \n",
    "    def __init__(self,corpus):\n",
    "        self.corpus = corpus # corpus dataframe\n",
    "        self.course_names = list(df['curr_course_name']) # course names only\n",
    "\n",
    "        \n",
    "    '''\n",
    "    \n",
    "    Text Clearning for Corpus\n",
    "    \n",
    "    '''\n",
    "        \n",
    "    @staticmethod\n",
    "    def clean_for_word2vec(text):\n",
    "\n",
    "        text = re.sub(\"[^A-Za-z1-9 ]\", \"\", text) #removes punctuation marks\n",
    "        text = text.lower() #changes to lower case\n",
    "        tokens = word_tokenize(text) #tokenize the text\n",
    "        clean_list = [] \n",
    "        for token in tokens:\n",
    "            if token not in en_stopwords: #removes stopwords\n",
    "                clean_list.append(lemma.lemmatize(token)) #lemmatizing and appends to clean_list\n",
    "        return clean_list\n",
    "    \n",
    "    @staticmethod\n",
    "    def clean(text):\n",
    "        text = re.sub(\"[^A-Za-z1-9 ]\", \"\", text) #removes punctuation marks\n",
    "        text = text.lower() #changes to lower case\n",
    "        tokens = word_tokenize(text) #tokenize the text\n",
    "        clean_list = [] \n",
    "        for token in tokens:\n",
    "            if token not in en_stopwords: #removes stopwords\n",
    "                clean_list.append(lemma.lemmatize(token)) #lemmatizing and appends to clean_list\n",
    "        return \" \".join(clean_list)# joins the tokens\n",
    "\n",
    "    \n",
    "    # create average emebedding vector for sentence\n",
    "    \n",
    "    @staticmethod\n",
    "    def doc_vectorizer(doc, model):\n",
    "\n",
    "        doc_vector = []\n",
    "        num_words = 0\n",
    "\n",
    "        for word in doc:\n",
    "            try:\n",
    "                if num_words == 0:\n",
    "                    doc_vector = model.wv[word]\n",
    "                else:\n",
    "                    doc_vector = np.add(doc_vector, model.wv[word])\n",
    "                num_words += 1\n",
    "            except:\n",
    "                pass  # if embedding vector isn't found\n",
    "\n",
    "        return np.asarray(doc_vector) / num_words\n",
    "    \n",
    "    \n",
    "    # cosine similarity for tfidf\n",
    "    \n",
    "    def course_recommender_tfidf(self,matrix, name):\n",
    "\n",
    "        # get its index from list\n",
    "        row_num = self.course_names.index(name)\n",
    "\n",
    "        # cosine similarity matrix for each index in list (square matrix)\n",
    "        similarity = cosine_similarity(test_matrix)\n",
    "\n",
    "        # get similar courses by highest cosine similarity\n",
    "        similar_courses = list(enumerate(similarity[row_num]))\n",
    "        sorted_similar_courses = sorted(similar_courses, key=lambda x:x[1], reverse= True)[:6]\n",
    "\n",
    "        print(f'Recommended courses for \\n{name}\\n')\n",
    "        # This part will return the description of the recommended courses\n",
    "        i = 0\n",
    "        for item in sorted_similar_courses:\n",
    "            course_description = self.corpus[self.corpus.index == item[0]][\"curr_course_name\"].values[0]\n",
    "            recommendations = print(f\"{i+1} {course_description}\")\n",
    "            i = i + 1\n",
    "        return recommendations\n",
    "    \n",
    "    # cosine similarity for word2vec\n",
    "\n",
    "    def course_recommender_w2v(X,course):\n",
    "\n",
    "        # Finding cosine similarity for the vectors\n",
    "        cosine_similarities = cosine_similarity(X,X)\n",
    "\n",
    "        # Taking the Title and Movie Image Link and store in new dataframe called 'movies'\n",
    "        courses = df[['curr_course_name']]\n",
    "\n",
    "        # Reverse mapping of the index\n",
    "        indices = pd.Series(data.index, index = df['curr_course_name']).drop_duplicates()\n",
    "\n",
    "        idx = indices[course]\n",
    "        sim_scores = list(enumerate(cosine_similarities[idx]))\n",
    "        sim_scores = sorted(sim_scores, key = lambda x: x[1], reverse = True)\n",
    "        sim_scores = sim_scores[1:6]\n",
    "        movie_indices = [i[0] for i in sim_scores]\n",
    "        recommend = courses.iloc[movie_indices]\n",
    "\n",
    "        for index, row in recommend.iterrows():\n",
    "            print(row['curr_course_name'])\n",
    "            \n",
    "    def tfidf_recommend(self,course):\n",
    "        \n",
    "        vectoriser = TfidfVectorizer()\n",
    "        self.test_matrix = vectoriser.fit_transform(self.corpus['text'])\n",
    "        self.course_recommender_tfidf(test_matrix,course)\n",
    "        \n",
    "        \n",
    "    # input course currently taking\n",
    "            \n",
    "    def __call__(self,inputs):\n",
    "        \n",
    "        recommendations = self.tfidf_recommend(inputs)\n",
    "\n",
    "# input corpus\n",
    "recomm = recommender(corpus)\n",
    "recomm('Analyzing Data with Python')"
   ]
  },
  {
   "cell_type": "code",
   "execution_count": null,
   "id": "a8e83427",
   "metadata": {},
   "outputs": [],
   "source": []
  }
 ],
 "metadata": {
  "kernelspec": {
   "display_name": "Python 3 (ipykernel)",
   "language": "python",
   "name": "python3"
  },
  "language_info": {
   "codemirror_mode": {
    "name": "ipython",
    "version": 3
   },
   "file_extension": ".py",
   "mimetype": "text/x-python",
   "name": "python",
   "nbconvert_exporter": "python",
   "pygments_lexer": "ipython3",
   "version": "3.9.13"
  }
 },
 "nbformat": 4,
 "nbformat_minor": 5
}
